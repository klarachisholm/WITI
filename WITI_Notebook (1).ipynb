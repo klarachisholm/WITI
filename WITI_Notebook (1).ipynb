{
 "cells": [
  {
   "cell_type": "code",
   "execution_count": 1,
   "metadata": {},
   "outputs": [],
   "source": [
    "import numpy as np\n",
    "import pandas as pd\n",
    "\n",
    "import matplotlib\n",
    "import matplotlib.pyplot as plt\n",
    "import seaborn as sns\n",
    "sns.set()\n",
    "plt.style.use('fivethirtyeight')\n",
    "\n",
    "import zipfile\n",
    "import os # Used to interact with the file system"
   ]
  },
  {
   "cell_type": "code",
   "execution_count": 2,
   "metadata": {},
   "outputs": [],
   "source": [
    "from pathlib import Path\n",
    "data_dir = Path('.')\n",
    "data_dir.mkdir(exist_ok = True)\n",
    "file_path = data_dir / Path('data.zip')\n",
    "dest_path = file_path"
   ]
  },
  {
   "cell_type": "code",
   "execution_count": 3,
   "metadata": {
    "scrolled": true
   },
   "outputs": [
    {
     "name": "stdout",
     "output_type": "stream",
     "text": [
      " ComputerScience_CAHighSchools.csv\r\n",
      " cs10_2015\r\n",
      " cs10_2016\r\n",
      " cs10_2017\r\n",
      " cs10_fa2018\r\n",
      " cs10_fa2019\r\n",
      " cs10_ppsk2015_2019\r\n",
      " cs10_sp2018\r\n",
      " cs10_sp2019\r\n",
      " cs61b_2015\r\n",
      " cs61b_2016\r\n",
      " d8_2015\r\n",
      " d8_2016\r\n",
      " d8_2017\r\n",
      " d8_fa2018\r\n",
      " d8_ppsk2015_2019\r\n",
      " d8_sp2018\r\n",
      " d8_sp2019\r\n",
      " data.zip\r\n",
      "'Prior Experience.ipynb'\r\n",
      " uc.berkeley.stem.pathways.2007.2017.txt\r\n",
      " uc.berkeley.student.course.data.2007.txt\r\n",
      " uc.berkeley.student.course.data.2008.txt\r\n",
      " uc.berkeley.student.course.data.2009.txt\r\n",
      " uc.berkeley.student.course.data.2010.txt\r\n",
      " uc.berkeley.student.course.data.2011.txt\r\n",
      " uc.berkeley.student.course.data.2012.txt\r\n",
      " uc.berkeley.student.course.data.2013.txt\r\n",
      " uc.berkeley.student.course.data.2014.txt\r\n",
      " uc.berkeley.student.course.data.2015.txt\r\n",
      " uc.berkeley.student.course.data.2016.txt\r\n",
      " uc.berkeley.student.course.data.2017.txt\r\n",
      " uc.berkeley.student.course.data.2018.fall.txt\r\n",
      " uc.berkeley.student.course.data.2018.spring.txt\r\n",
      " uc.berkeley.student.course.data.2018.summer.txt\r\n",
      " uc.berkeley.student.course.data.2019.fall.txt\r\n",
      " uc.berkeley.student.course.data.2019.spring.txt\r\n",
      " uc.berkeley.student.course.data.2019.summer.txt\r\n",
      " uc.berkeley.student.majors.2007.2017.txt\r\n",
      " uc.berkeley.student.majors.2018.txt\r\n",
      " uc.berkeley.student.majors.2019.txt\r\n",
      " WITI_Notebook.ipynb\r\n"
     ]
    }
   ],
   "source": [
    "!ls"
   ]
  },
  {
   "cell_type": "code",
   "execution_count": 4,
   "metadata": {},
   "outputs": [],
   "source": [
    "majors2007_2017 = pd.read_csv(\"uc.berkeley.student.majors.2007.2017.txt\", sep=\"\\t\", low_memory=False)"
   ]
  },
  {
   "cell_type": "code",
   "execution_count": 5,
   "metadata": {},
   "outputs": [],
   "source": [
    "course_data2007 = pd.read_csv(\"uc.berkeley.student.course.data.2007.txt\", sep=\"\\t\", low_memory=False)\n",
    "course_data2008 = pd.read_csv(\"uc.berkeley.student.course.data.2008.txt\", sep=\"\\t\", low_memory=False)\n",
    "course_data2009 = pd.read_csv(\"uc.berkeley.student.course.data.2009.txt\", sep=\"\\t\", low_memory=False)\n",
    "course_data2010 = pd.read_csv(\"uc.berkeley.student.course.data.2010.txt\", sep=\"\\t\", low_memory=False)\n",
    "course_data2011 = pd.read_csv(\"uc.berkeley.student.course.data.2011.txt\", sep=\"\\t\", low_memory=False)\n",
    "course_data2012 = pd.read_csv(\"uc.berkeley.student.course.data.2012.txt\", sep=\"\\t\", low_memory=False)\n",
    "course_data2013 = pd.read_csv(\"uc.berkeley.student.course.data.2013.txt\", sep=\"\\t\", low_memory=False)\n",
    "course_data2014 = pd.read_csv(\"uc.berkeley.student.course.data.2014.txt\", sep=\"\\t\", low_memory=False)\n",
    "course_data2015 = pd.read_csv(\"uc.berkeley.student.course.data.2015.txt\", sep=\"\\t\", low_memory=False)\n",
    "course_data2016 = pd.read_csv(\"uc.berkeley.student.course.data.2016.txt\", sep=\"\\t\", low_memory=False)\n",
    "course_data2017 = pd.read_csv(\"uc.berkeley.student.course.data.2017.txt\", sep=\"\\t\", low_memory=False)"
   ]
  },
  {
   "cell_type": "code",
   "execution_count": 6,
   "metadata": {},
   "outputs": [
    {
     "data": {
      "text/plain": [
       "L&S Undeclared                    9381\n",
       "Molecular & Cell Biology          4362\n",
       "Psychology                        2169\n",
       "English                           2006\n",
       "Political Science                 1844\n",
       "                                  ... \n",
       "Other Math & Physical Sci Pgms      21\n",
       "Slavic Languages & Literatures      21\n",
       "Scandinavian                        21\n",
       "Engineering Joint Programs          11\n",
       "Other Chemistry Programs             9\n",
       "Name: major.intended.department, Length: 69, dtype: int64"
      ]
     },
     "execution_count": 6,
     "metadata": {},
     "output_type": "execute_result"
    }
   ],
   "source": [
    "sp07_17 = pd.read_csv(\"uc.berkeley.stem.pathways.2007.2017.txt\", sep=\"\\t\", low_memory=False)\n",
    "females_only = sp07_17[sp07_17['gender'] == 'Female']\n",
    "females_only['major.intended.department'].value_counts()"
   ]
  },
  {
   "cell_type": "code",
   "execution_count": 7,
   "metadata": {},
   "outputs": [],
   "source": [
    "intended_cs = sp07_17[sp07_17['major.intended.department'] == 'L&S Computer Science']\n",
    "gpa = intended_cs['hs.gpa.unweighted']"
   ]
  },
  {
   "cell_type": "markdown",
   "metadata": {},
   "source": [
    "## Loading and Filtering 2015-2019 Datasets (Post Grade Cap)"
   ]
  },
  {
   "cell_type": "code",
   "execution_count": 8,
   "metadata": {},
   "outputs": [],
   "source": [
    "#Load 2015 courses, filter for DS/CS/Statistics\n",
    "courses_2015 = pd.read_csv(\"uc.berkeley.student.course.data.2015.txt\", sep=\"\\t\", low_memory=False)\n",
    "ds_2015 = courses_2015[courses_2015[\"course.department\"].isin([\"Data Science\", \"Electrical Eng & Computer Sci\", \"Statistics\"])]"
   ]
  },
  {
   "cell_type": "code",
   "execution_count": 9,
   "metadata": {},
   "outputs": [],
   "source": [
    "#D8 Pilot in Fall 2015\n",
    "d8_2015 = ds_2015[ds_2015[\"course.subject\"].isin([\"Statistics\", \"Computer Science\"])]\n",
    "d8_2015 = d8_2015[d8_2015[\"course.number\"].isin([\"94\"])]\n",
    "d8_2015 = d8_2015[d8_2015[\"section.number\"].isin([\"1\"])]\n",
    "d8_ppsk = np.array(ds_2015[\"ppsk\"]) #Save Data 8 2015 ppsk to array of all ppsks in data 8 \n",
    "d8_2015.to_csv(\"d8_2015\")"
   ]
  },
  {
   "cell_type": "code",
   "execution_count": 10,
   "metadata": {},
   "outputs": [],
   "source": [
    "#Filter for CS 10 in 2015, only lecture, save CS 10 ppsk from 2015\n",
    "cs10_2015 = ds_2015[ds_2015[\"course.number\"].isin([\"10\"])]\n",
    "cs10_2015 = cs10_2015[cs10_2015[\"section.number\"] == \"1\"]\n",
    "cs10_ppsk = np.array(cs10_2015[\"ppsk\"])\n",
    "cs10_2015.to_csv(\"cs10_2015\")"
   ]
  },
  {
   "cell_type": "code",
   "execution_count": 11,
   "metadata": {},
   "outputs": [],
   "source": [
    "#61B in 2015 \n",
    "cs61b_2015 = ds_2015[ds_2015[\"course.number\"].isin([\"61B\"])]\n",
    "cs61b_2015 = cs61b_2015[cs61b_2015[\"section.number\"] == \"1\"]\n",
    "cs61b_ppsk = np.array(cs61b_2015[\"ppsk\"])\n",
    "cs61b_2015.to_csv(\"cs61b_2015\")"
   ]
  },
  {
   "cell_type": "code",
   "execution_count": 12,
   "metadata": {},
   "outputs": [],
   "source": [
    "courses_2016 = pd.read_csv(\"uc.berkeley.student.course.data.2016.txt\", sep=\"\\t\", low_memory=False)\n",
    "ds_2016 = courses_2016[courses_2016[\"course.department\"].isin([\"Data Science\", \"Electrical Eng & Computer Sci\", \"Statistics\"])]"
   ]
  },
  {
   "cell_type": "code",
   "execution_count": 13,
   "metadata": {},
   "outputs": [],
   "source": [
    "#Data 8 data from 2016\n",
    "d8_2016 = ds_2016[ds_2016[\"course.subject\"].isin([\"Statistics\", \"Computer Science\"])]\n",
    "d8_2016 = d8_2016[d8_2016[\"course.number\"].isin([\"C8\", \"8\"])]\n",
    "d8_2016 = d8_2016[d8_2016[\"section.number\"].isin([\"1\"])]\n",
    "d8_ppsk = np.append(d8_ppsk, np.array(d8_2016[\"ppsk\"]))\n",
    "d8_2016.to_csv(\"d8_2016\")"
   ]
  },
  {
   "cell_type": "code",
   "execution_count": 14,
   "metadata": {},
   "outputs": [],
   "source": [
    "#Load 2016 courses, filter for DS/CS/Statistics\n",
    "cs10_2016 = ds_2016[ds_2016[\"course.subject\"] == \"Computer Science\"]\n",
    "cs10_2016 = cs10_2016[cs10_2016[\"course.number\"] == \"10\"]\n",
    "cs10_2016 = cs10_2016[cs10_2016[\"section.number\"] == \"1\"]\n",
    "cs10_ppsk = np.append(cs10_ppsk, np.array(cs10_2016['ppsk']))\n",
    "cs10_2016.to_csv(\"cs10_2016\")"
   ]
  },
  {
   "cell_type": "code",
   "execution_count": 15,
   "metadata": {},
   "outputs": [],
   "source": [
    "#61B in 2015\n",
    "cs61b_2016 = ds_2016[ds_2016[\"course.number\"].isin([\"61B\"])]\n",
    "cs61b_2016 = cs61b_2016[cs61b_2016[\"section.number\"] == \"1\"]\n",
    "cs61b_ppsk = np.array(cs61b_2016[\"ppsk\"])\n",
    "cs61b_2016.to_csv(\"cs61b_2016\")"
   ]
  },
  {
   "cell_type": "code",
   "execution_count": 16,
   "metadata": {},
   "outputs": [],
   "source": [
    "#Load 2017 courses, filter for DS/CS/Statistics\n",
    "courses_2017 = pd.read_csv(\"uc.berkeley.student.course.data.2017.txt\", sep=\"\\t\", low_memory=False)\n",
    "ds_2017 = courses_2017[courses_2017[\"course.department\"].isin([\"Data Science\", \"Electrical Eng & Computer Sci\", \"Statistics\"])]"
   ]
  },
  {
   "cell_type": "code",
   "execution_count": 17,
   "metadata": {},
   "outputs": [],
   "source": [
    "# Filter only Data 8 lecture, append 2017 ppsks\n",
    "d8_2017 = ds_2017[ds_2017[\"course.subject\"].isin([\"Statistics\", \"Computer Science\"])]\n",
    "d8_2017 = d8_2017[d8_2017[\"course.number\"].isin([\"C8\"])]\n",
    "d8_2017 = d8_2017[d8_2017[\"section.number\"].isin([\"1\"])]\n",
    "d8_ppsk = np.append(d8_ppsk, np.array(d8_2017[\"ppsk\"]))\n",
    "d8_2017.to_csv(\"d8_2017\")"
   ]
  },
  {
   "cell_type": "code",
   "execution_count": 18,
   "metadata": {},
   "outputs": [],
   "source": [
    "# Filter only CS10, append 2017 ppsks\n",
    "cs10_2017 = ds_2017[ds_2017[\"course.subject\"] == \"Computer Science\"]\n",
    "cs10_2017 = cs10_2017[cs10_2017[\"course.number\"] == \"10\"]\n",
    "cs10_2017 = cs10_2017[cs10_2017[\"section.number\"] == \"1\"]\n",
    "cs10_ppsk = np.append(cs10_ppsk, np.array(cs10_2017[\"ppsk\"]))\n",
    "cs10_2017.to_csv(\"cs10_2017\")"
   ]
  },
  {
   "cell_type": "code",
   "execution_count": 39,
   "metadata": {},
   "outputs": [],
   "source": [
    "#61B in 2017\n",
    "cs61b_2017 = ds_2017[ds_2017[\"course.number\"].isin([\"61B\"])]\n",
    "cs61b_2017 = cs61b_2017[cs61b_2017[\"section.number\"] == \"1\"]\n",
    "cs61b_ppsk = np.array(cs61b_2017[\"ppsk\"])\n",
    "cs61b_2017.to_csv(\"cs61b_2017\")"
   ]
  },
  {
   "cell_type": "code",
   "execution_count": 20,
   "metadata": {},
   "outputs": [],
   "source": [
    "#Load Fall 2018 courses, filter for DS/CS/Statistics\n",
    "courses_fa2018 = pd.read_csv(\"uc.berkeley.student.course.data.2018.fall.txt\", sep=\"\\t\", low_memory=False)\n",
    "ds_fa2018 = courses_fa2018[courses_fa2018[\"course.department\"].isin([\"Data Science\", \"Electrical Eng & Computer Sci\", \"Statistics\"])]"
   ]
  },
  {
   "cell_type": "code",
   "execution_count": 21,
   "metadata": {},
   "outputs": [
    {
     "data": {
      "text/html": [
       "<div>\n",
       "<style scoped>\n",
       "    .dataframe tbody tr th:only-of-type {\n",
       "        vertical-align: middle;\n",
       "    }\n",
       "\n",
       "    .dataframe tbody tr th {\n",
       "        vertical-align: top;\n",
       "    }\n",
       "\n",
       "    .dataframe thead th {\n",
       "        text-align: right;\n",
       "    }\n",
       "</style>\n",
       "<table border=\"1\" class=\"dataframe\">\n",
       "  <thead>\n",
       "    <tr style=\"text-align: right;\">\n",
       "      <th></th>\n",
       "      <th>year.name</th>\n",
       "      <th>ppsk</th>\n",
       "      <th>undergrad.status</th>\n",
       "      <th>course.department</th>\n",
       "      <th>course.subject</th>\n",
       "      <th>course.number</th>\n",
       "      <th>offering.type</th>\n",
       "      <th>section.number</th>\n",
       "      <th>ccn</th>\n",
       "      <th>room.share</th>\n",
       "      <th>course.title</th>\n",
       "      <th>instructor.name</th>\n",
       "      <th>grade.subtype</th>\n",
       "      <th>grade.type</th>\n",
       "      <th>grade.name</th>\n",
       "      <th>grade.points</th>\n",
       "      <th>student.credit.hours</th>\n",
       "    </tr>\n",
       "  </thead>\n",
       "  <tbody>\n",
       "    <tr>\n",
       "      <th>109</th>\n",
       "      <td>2018 Fall</td>\n",
       "      <td>845402</td>\n",
       "      <td>Undergraduate</td>\n",
       "      <td>Electrical Eng &amp; Computer Sci</td>\n",
       "      <td>Computer Science</td>\n",
       "      <td>C8</td>\n",
       "      <td>Primary</td>\n",
       "      <td>1</td>\n",
       "      <td>27696</td>\n",
       "      <td>697</td>\n",
       "      <td>Foundation Data Sci</td>\n",
       "      <td>NaN</td>\n",
       "      <td>A</td>\n",
       "      <td>Letter Grade</td>\n",
       "      <td>A-</td>\n",
       "      <td>3.7</td>\n",
       "      <td>4.0</td>\n",
       "    </tr>\n",
       "    <tr>\n",
       "      <th>404</th>\n",
       "      <td>2018 Fall</td>\n",
       "      <td>1311138</td>\n",
       "      <td>Undergraduate</td>\n",
       "      <td>Electrical Eng &amp; Computer Sci</td>\n",
       "      <td>Computer Science</td>\n",
       "      <td>C8</td>\n",
       "      <td>Primary</td>\n",
       "      <td>1</td>\n",
       "      <td>27696</td>\n",
       "      <td>697</td>\n",
       "      <td>Foundation Data Sci</td>\n",
       "      <td>NaN</td>\n",
       "      <td>A</td>\n",
       "      <td>Letter Grade</td>\n",
       "      <td>A</td>\n",
       "      <td>4.0</td>\n",
       "      <td>4.0</td>\n",
       "    </tr>\n",
       "    <tr>\n",
       "      <th>488</th>\n",
       "      <td>2018 Fall</td>\n",
       "      <td>1470872</td>\n",
       "      <td>Undergraduate</td>\n",
       "      <td>Electrical Eng &amp; Computer Sci</td>\n",
       "      <td>Computer Science</td>\n",
       "      <td>C8</td>\n",
       "      <td>Primary</td>\n",
       "      <td>1</td>\n",
       "      <td>27696</td>\n",
       "      <td>697</td>\n",
       "      <td>Foundation Data Sci</td>\n",
       "      <td>NaN</td>\n",
       "      <td>B</td>\n",
       "      <td>Letter Grade</td>\n",
       "      <td>B-</td>\n",
       "      <td>2.7</td>\n",
       "      <td>4.0</td>\n",
       "    </tr>\n",
       "    <tr>\n",
       "      <th>815</th>\n",
       "      <td>2018 Fall</td>\n",
       "      <td>1479215</td>\n",
       "      <td>Undergraduate</td>\n",
       "      <td>Electrical Eng &amp; Computer Sci</td>\n",
       "      <td>Computer Science</td>\n",
       "      <td>C8</td>\n",
       "      <td>Primary</td>\n",
       "      <td>1</td>\n",
       "      <td>27696</td>\n",
       "      <td>697</td>\n",
       "      <td>Foundation Data Sci</td>\n",
       "      <td>NaN</td>\n",
       "      <td>A</td>\n",
       "      <td>Letter Grade</td>\n",
       "      <td>A</td>\n",
       "      <td>4.0</td>\n",
       "      <td>4.0</td>\n",
       "    </tr>\n",
       "    <tr>\n",
       "      <th>897</th>\n",
       "      <td>2018 Fall</td>\n",
       "      <td>1480365</td>\n",
       "      <td>Undergraduate</td>\n",
       "      <td>Electrical Eng &amp; Computer Sci</td>\n",
       "      <td>Computer Science</td>\n",
       "      <td>C8</td>\n",
       "      <td>Primary</td>\n",
       "      <td>1</td>\n",
       "      <td>27696</td>\n",
       "      <td>697</td>\n",
       "      <td>Foundation Data Sci</td>\n",
       "      <td>NaN</td>\n",
       "      <td>A</td>\n",
       "      <td>Letter Grade</td>\n",
       "      <td>A</td>\n",
       "      <td>4.0</td>\n",
       "      <td>4.0</td>\n",
       "    </tr>\n",
       "    <tr>\n",
       "      <th>...</th>\n",
       "      <td>...</td>\n",
       "      <td>...</td>\n",
       "      <td>...</td>\n",
       "      <td>...</td>\n",
       "      <td>...</td>\n",
       "      <td>...</td>\n",
       "      <td>...</td>\n",
       "      <td>...</td>\n",
       "      <td>...</td>\n",
       "      <td>...</td>\n",
       "      <td>...</td>\n",
       "      <td>...</td>\n",
       "      <td>...</td>\n",
       "      <td>...</td>\n",
       "      <td>...</td>\n",
       "      <td>...</td>\n",
       "      <td>...</td>\n",
       "    </tr>\n",
       "    <tr>\n",
       "      <th>101054</th>\n",
       "      <td>2018 Fall</td>\n",
       "      <td>3312458</td>\n",
       "      <td>Undergraduate</td>\n",
       "      <td>Electrical Eng &amp; Computer Sci</td>\n",
       "      <td>Computer Science</td>\n",
       "      <td>C8</td>\n",
       "      <td>Primary</td>\n",
       "      <td>1</td>\n",
       "      <td>27696</td>\n",
       "      <td>697</td>\n",
       "      <td>Foundation Data Sci</td>\n",
       "      <td>NaN</td>\n",
       "      <td>B</td>\n",
       "      <td>Letter Grade</td>\n",
       "      <td>B+</td>\n",
       "      <td>3.3</td>\n",
       "      <td>4.0</td>\n",
       "    </tr>\n",
       "    <tr>\n",
       "      <th>101057</th>\n",
       "      <td>2018 Fall</td>\n",
       "      <td>3312460</td>\n",
       "      <td>Undergraduate</td>\n",
       "      <td>Electrical Eng &amp; Computer Sci</td>\n",
       "      <td>Computer Science</td>\n",
       "      <td>C8</td>\n",
       "      <td>Primary</td>\n",
       "      <td>1</td>\n",
       "      <td>27696</td>\n",
       "      <td>697</td>\n",
       "      <td>Foundation Data Sci</td>\n",
       "      <td>NaN</td>\n",
       "      <td>B</td>\n",
       "      <td>Letter Grade</td>\n",
       "      <td>B+</td>\n",
       "      <td>3.3</td>\n",
       "      <td>4.0</td>\n",
       "    </tr>\n",
       "    <tr>\n",
       "      <th>101372</th>\n",
       "      <td>2018 Fall</td>\n",
       "      <td>3315661</td>\n",
       "      <td>Undergraduate</td>\n",
       "      <td>Electrical Eng &amp; Computer Sci</td>\n",
       "      <td>Computer Science</td>\n",
       "      <td>C8</td>\n",
       "      <td>Primary</td>\n",
       "      <td>1</td>\n",
       "      <td>27696</td>\n",
       "      <td>697</td>\n",
       "      <td>Foundation Data Sci</td>\n",
       "      <td>NaN</td>\n",
       "      <td>A</td>\n",
       "      <td>Letter Grade</td>\n",
       "      <td>A</td>\n",
       "      <td>4.0</td>\n",
       "      <td>4.0</td>\n",
       "    </tr>\n",
       "    <tr>\n",
       "      <th>101717</th>\n",
       "      <td>2018 Fall</td>\n",
       "      <td>3318465</td>\n",
       "      <td>Undergraduate</td>\n",
       "      <td>Electrical Eng &amp; Computer Sci</td>\n",
       "      <td>Computer Science</td>\n",
       "      <td>C8</td>\n",
       "      <td>Primary</td>\n",
       "      <td>1</td>\n",
       "      <td>27696</td>\n",
       "      <td>697</td>\n",
       "      <td>Foundation Data Sci</td>\n",
       "      <td>NaN</td>\n",
       "      <td>A</td>\n",
       "      <td>Letter Grade</td>\n",
       "      <td>A-</td>\n",
       "      <td>3.7</td>\n",
       "      <td>4.0</td>\n",
       "    </tr>\n",
       "    <tr>\n",
       "      <th>102066</th>\n",
       "      <td>2018 Fall</td>\n",
       "      <td>3321544</td>\n",
       "      <td>Undergraduate</td>\n",
       "      <td>Electrical Eng &amp; Computer Sci</td>\n",
       "      <td>Computer Science</td>\n",
       "      <td>C8</td>\n",
       "      <td>Primary</td>\n",
       "      <td>1</td>\n",
       "      <td>27696</td>\n",
       "      <td>697</td>\n",
       "      <td>Foundation Data Sci</td>\n",
       "      <td>NaN</td>\n",
       "      <td>A</td>\n",
       "      <td>Letter Grade</td>\n",
       "      <td>A-</td>\n",
       "      <td>3.7</td>\n",
       "      <td>4.0</td>\n",
       "    </tr>\n",
       "  </tbody>\n",
       "</table>\n",
       "<p>1205 rows × 17 columns</p>\n",
       "</div>"
      ],
      "text/plain": [
       "        year.name     ppsk undergrad.status              course.department  \\\n",
       "109     2018 Fall   845402    Undergraduate  Electrical Eng & Computer Sci   \n",
       "404     2018 Fall  1311138    Undergraduate  Electrical Eng & Computer Sci   \n",
       "488     2018 Fall  1470872    Undergraduate  Electrical Eng & Computer Sci   \n",
       "815     2018 Fall  1479215    Undergraduate  Electrical Eng & Computer Sci   \n",
       "897     2018 Fall  1480365    Undergraduate  Electrical Eng & Computer Sci   \n",
       "...           ...      ...              ...                            ...   \n",
       "101054  2018 Fall  3312458    Undergraduate  Electrical Eng & Computer Sci   \n",
       "101057  2018 Fall  3312460    Undergraduate  Electrical Eng & Computer Sci   \n",
       "101372  2018 Fall  3315661    Undergraduate  Electrical Eng & Computer Sci   \n",
       "101717  2018 Fall  3318465    Undergraduate  Electrical Eng & Computer Sci   \n",
       "102066  2018 Fall  3321544    Undergraduate  Electrical Eng & Computer Sci   \n",
       "\n",
       "          course.subject course.number offering.type section.number    ccn  \\\n",
       "109     Computer Science            C8       Primary              1  27696   \n",
       "404     Computer Science            C8       Primary              1  27696   \n",
       "488     Computer Science            C8       Primary              1  27696   \n",
       "815     Computer Science            C8       Primary              1  27696   \n",
       "897     Computer Science            C8       Primary              1  27696   \n",
       "...                  ...           ...           ...            ...    ...   \n",
       "101054  Computer Science            C8       Primary              1  27696   \n",
       "101057  Computer Science            C8       Primary              1  27696   \n",
       "101372  Computer Science            C8       Primary              1  27696   \n",
       "101717  Computer Science            C8       Primary              1  27696   \n",
       "102066  Computer Science            C8       Primary              1  27696   \n",
       "\n",
       "        room.share         course.title  instructor.name grade.subtype  \\\n",
       "109            697  Foundation Data Sci              NaN             A   \n",
       "404            697  Foundation Data Sci              NaN             A   \n",
       "488            697  Foundation Data Sci              NaN             B   \n",
       "815            697  Foundation Data Sci              NaN             A   \n",
       "897            697  Foundation Data Sci              NaN             A   \n",
       "...            ...                  ...              ...           ...   \n",
       "101054         697  Foundation Data Sci              NaN             B   \n",
       "101057         697  Foundation Data Sci              NaN             B   \n",
       "101372         697  Foundation Data Sci              NaN             A   \n",
       "101717         697  Foundation Data Sci              NaN             A   \n",
       "102066         697  Foundation Data Sci              NaN             A   \n",
       "\n",
       "          grade.type grade.name  grade.points  student.credit.hours  \n",
       "109     Letter Grade         A-           3.7                   4.0  \n",
       "404     Letter Grade          A           4.0                   4.0  \n",
       "488     Letter Grade         B-           2.7                   4.0  \n",
       "815     Letter Grade          A           4.0                   4.0  \n",
       "897     Letter Grade          A           4.0                   4.0  \n",
       "...              ...        ...           ...                   ...  \n",
       "101054  Letter Grade         B+           3.3                   4.0  \n",
       "101057  Letter Grade         B+           3.3                   4.0  \n",
       "101372  Letter Grade          A           4.0                   4.0  \n",
       "101717  Letter Grade         A-           3.7                   4.0  \n",
       "102066  Letter Grade         A-           3.7                   4.0  \n",
       "\n",
       "[1205 rows x 17 columns]"
      ]
     },
     "execution_count": 21,
     "metadata": {},
     "output_type": "execute_result"
    }
   ],
   "source": [
    "ds_fa2018[ds_fa2018['course.number'] == 'C8']"
   ]
  },
  {
   "cell_type": "code",
   "execution_count": 22,
   "metadata": {},
   "outputs": [],
   "source": [
    "#Data 8 data from Fall 2018\n",
    "d8_fa2018 = ds_fa2018[ds_fa2018[\"course.subject\"].isin([\"Statistics\", \"Computer Science\"])]\n",
    "d8_fa2018 = d8_fa2018[d8_fa2018[\"course.number\"] == 'C8']\n",
    "d8_fa2018 = d8_fa2018[d8_fa2018[\"section.number\"].isin([\"1\"])]\n",
    "d8_ppsk = np.append(d8_ppsk, np.array(d8_fa2018[\"ppsk\"]))\n",
    "d8_fa2018.to_csv(\"d8_fa2018\")"
   ]
  },
  {
   "cell_type": "code",
   "execution_count": 23,
   "metadata": {},
   "outputs": [],
   "source": [
    "#CS 10 data from Fall 2018\n",
    "cs10_fa2018 = ds_fa2018[ds_fa2018[\"course.subject\"].isin([\"Statistics\", \"Computer Science\"])]\n",
    "cs10_fa2018 = cs10_fa2018[cs10_fa2018[\"course.number\"] == '10']\n",
    "cs10_fa2018 = cs10_fa2018[cs10_fa2018[\"section.number\"].isin([\"1\"])]\n",
    "cs10_ppsk = np.append(cs10_ppsk, np.array(cs10_fa2018[\"ppsk\"]))\n",
    "cs10_fa2018.to_csv(\"cs10_fa2018\")"
   ]
  },
  {
   "cell_type": "code",
   "execution_count": 38,
   "metadata": {},
   "outputs": [],
   "source": [
    "#61B in Fall 2018\n",
    "cs61b_fa2018 = ds_fa2018[ds_fa2018[\"course.number\"].isin([\"61B\"])]\n",
    "cs61b_fa2018 = cs61b_fa2018[cs61b_fa2018[\"section.number\"] == \"1\"]\n",
    "cs61b_ppsk = np.array(cs61b_fa2018[\"ppsk\"])\n",
    "cs61b_fa2018.to_csv(\"cs61b_fa2018\")"
   ]
  },
  {
   "cell_type": "code",
   "execution_count": 29,
   "metadata": {},
   "outputs": [],
   "source": [
    "#Load and filter Spring 2018\n",
    "courses_sp2018 = pd.read_csv(\"uc.berkeley.student.course.data.2018.spring.txt\", sep=\"\\t\", low_memory=False)\n",
    "ds_sp2018 = courses_sp2018[courses_sp2018[\"course.department\"].isin([\"Data Science\", \"Electrical Eng & Computer Sci\", \"Statistics\"])]"
   ]
  },
  {
   "cell_type": "code",
   "execution_count": 30,
   "metadata": {},
   "outputs": [],
   "source": [
    "#Data 8 data from Spring 2018\n",
    "d8_sp2018 = ds_sp2018[ds_sp2018[\"course.subject\"].isin([\"Statistics\", \"Computer Science\"])]\n",
    "d8_sp2018 = d8_sp2018[d8_sp2018[\"course.number\"] == 'C8']\n",
    "d8_sp2018 = d8_sp2018[d8_sp2018[\"section.number\"].isin([\"1\"])]\n",
    "d8_ppsk = np.append(d8_ppsk, np.array(d8_sp2018[\"ppsk\"]))\n",
    "d8_sp2018.to_csv(\"d8_sp2018\")"
   ]
  },
  {
   "cell_type": "code",
   "execution_count": 31,
   "metadata": {},
   "outputs": [],
   "source": [
    "#CS 10 data from Spring 2018\n",
    "cs10_sp2018 = ds_sp2018[ds_sp2018[\"course.subject\"].isin([\"Statistics\", \"Computer Science\"])]\n",
    "cs10_sp2018 = cs10_sp2018[cs10_sp2018[\"course.number\"] == '10']\n",
    "cs10_sp2018 = cs10_sp2018[cs10_sp2018[\"section.number\"].isin([\"1\"])]\n",
    "cs10_ppsk = np.append(cs10_ppsk, np.array(cs10_sp2018[\"ppsk\"]))\n",
    "cs10_sp2018.to_csv(\"cs10_sp2018\")"
   ]
  },
  {
   "cell_type": "code",
   "execution_count": 36,
   "metadata": {},
   "outputs": [],
   "source": [
    "#CS 61B data from Spring 2018\n",
    "cs61b_sp2018 = ds_sp2018[ds_sp2018[\"course.number\"].isin([\"61B\"])]\n",
    "cs61b_sp2018 = cs61b_sp2018[cs61b_sp2018[\"section.number\"] == \"1\"]\n",
    "cs61b_ppsk = np.array(cs61b_sp2018[\"ppsk\"])\n",
    "cs61b_sp2018.to_csv(\"cs61b_sp2018\")"
   ]
  },
  {
   "cell_type": "code",
   "execution_count": 33,
   "metadata": {},
   "outputs": [],
   "source": [
    "#Load and filter Fall 2019\n",
    "courses_fa2019 = pd.read_csv(\"uc.berkeley.student.course.data.2019.fall.txt\", sep=\"\\t\", low_memory=False)\n",
    "ds_fa2019 = courses_fa2019[courses_fa2019[\"course.department\"].isin([\"Data Science\", \"Electrical Eng & Computer Sci\", \"Statistics\"])]"
   ]
  },
  {
   "cell_type": "code",
   "execution_count": 34,
   "metadata": {},
   "outputs": [],
   "source": [
    "#Data 8 data from Fall 2019\n",
    "d8_fa2019 = ds_fa2019[ds_fa2019[\"course.subject\"].isin([\"Statistics\", \"Computer Science\"])]\n",
    "d8_fa2019 = d8_fa2019[d8_fa2019[\"course.number\"] == 'C8']\n",
    "d8_fa2019 = d8_fa2019[d8_fa2019[\"section.number\"].isin([\"1\"])]\n",
    "d8_ppsk = np.append(d8_ppsk, np.array(d8_fa2019[\"ppsk\"]))\n",
    "d8_fa2018.to_csv(\"d8_fa2018\")"
   ]
  },
  {
   "cell_type": "code",
   "execution_count": 35,
   "metadata": {},
   "outputs": [],
   "source": [
    "#CS 10 data from Fall 2019\n",
    "cs10_fa2019 = ds_fa2019[ds_fa2019[\"course.subject\"].isin([\"Statistics\", \"Computer Science\"])]\n",
    "cs10_fa2019 = cs10_fa2019[cs10_fa2019[\"course.number\"] == '10']\n",
    "cs10_fa2019 = cs10_fa2019[cs10_fa2019[\"section.number\"].isin([\"1\"])]\n",
    "cs10_ppsk = np.append(cs10_ppsk, np.array(cs10_fa2019[\"ppsk\"]))\n",
    "cs10_fa2019.to_csv(\"cs10_fa2019\")"
   ]
  },
  {
   "cell_type": "code",
   "execution_count": 40,
   "metadata": {},
   "outputs": [],
   "source": [
    "#CS 61B data from Fall 2019\n",
    "cs61b_fa2019 = ds_fa2019[ds_fa2019[\"course.number\"].isin([\"61B\"])]\n",
    "cs61b_fa2019 = cs61b_fa2019[cs61b_fa2019[\"section.number\"] == \"1\"]\n",
    "cs61b_ppsk = np.array(cs61b_fa2019[\"ppsk\"])\n",
    "cs61b_fa2019.to_csv(\"cs61b_fa2019\")"
   ]
  },
  {
   "cell_type": "code",
   "execution_count": 41,
   "metadata": {},
   "outputs": [],
   "source": [
    "#Load and filter Spring 2019\n",
    "courses_sp2019 = pd.read_csv(\"uc.berkeley.student.course.data.2019.spring.txt\", sep=\"\\t\", low_memory=False)\n",
    "ds_sp2019 = courses_sp2019[courses_sp2019[\"course.department\"].isin([\"Data Science\", \"Electrical Eng & Computer Sci\", \"Statistics\"])]"
   ]
  },
  {
   "cell_type": "code",
   "execution_count": 42,
   "metadata": {},
   "outputs": [],
   "source": [
    "#Data 8 data from Spring 2019\n",
    "d8_sp2019 = ds_sp2019[ds_sp2019[\"course.subject\"].isin([\"Statistics\", \"Computer Science\"])]\n",
    "d8_sp2019 = d8_sp2019[d8_sp2019[\"course.number\"] == 'C8']\n",
    "d8_sp2019 = d8_sp2019[d8_sp2019[\"section.number\"].isin([\"1\"])]\n",
    "d8_ppsk = np.append(d8_ppsk, np.array(d8_sp2019[\"ppsk\"]))\n",
    "d8_sp2019.to_csv(\"d8_sp2019\")"
   ]
  },
  {
   "cell_type": "code",
   "execution_count": 43,
   "metadata": {},
   "outputs": [],
   "source": [
    "#CS 10 data from Spring 2019\n",
    "cs10_sp2019 = ds_sp2019[ds_sp2019[\"course.subject\"].isin([\"Statistics\", \"Computer Science\"])]\n",
    "cs10_sp2019 = cs10_sp2019[cs10_sp2019[\"course.number\"] == '10']\n",
    "cs10_sp2019 = cs10_sp2019[cs10_sp2019[\"section.number\"].isin([\"1\"])]\n",
    "cs10_ppsk = np.append(cs10_ppsk, np.array(cs10_sp2019[\"ppsk\"]))\n",
    "cs10_sp2019.to_csv(\"cs10_sp2019\")"
   ]
  },
  {
   "cell_type": "code",
   "execution_count": 44,
   "metadata": {},
   "outputs": [],
   "source": [
    "#CS 61B data from Spring 2019\n",
    "cs61b_sp2019 = ds_sp2019[ds_sp2019[\"course.number\"].isin([\"61B\"])]\n",
    "cs61b_sp2019 = cs61b_sp2019[cs61b_sp2019[\"section.number\"] == \"1\"]\n",
    "cs61b_ppsk = np.array(cs61b_sp2019[\"ppsk\"])\n",
    "cs61b_sp2019.to_csv(\"cs61b_sp2019\")"
   ]
  },
  {
   "cell_type": "code",
   "execution_count": 47,
   "metadata": {},
   "outputs": [],
   "source": [
    "#Load all Data 8 ppsk's into dataframe\n",
    "d8_ppsk_df = pd.DataFrame(d8_ppsk)\n",
    "d8_ppsk_df.to_csv(\"d8_ppsk2015_2019\")"
   ]
  },
  {
   "cell_type": "code",
   "execution_count": 46,
   "metadata": {},
   "outputs": [],
   "source": [
    "#Load all CS 10 ppsk's into dataframe\n",
    "cs10_ppsk_df = pd.DataFrame(cs10_ppsk)\n",
    "cs10_ppsk_df.to_csv(\"cs10_ppsk2015_2019\")"
   ]
  },
  {
   "cell_type": "code",
   "execution_count": 48,
   "metadata": {},
   "outputs": [],
   "source": [
    "#Load all CS 61B ppsk's into dataframe\n",
    "cs61b_ppsk_df = pd.DataFrame(cs61b_ppsk)\n",
    "cs61b_ppsk_df.to_csv(\"cs61b_ppsk2015_2019\")"
   ]
  },
  {
   "cell_type": "code",
   "execution_count": 54,
   "metadata": {},
   "outputs": [],
   "source": [
    "hs_cs = pd.read_csv(\"ComputerScience_CAHighSchools.csv\", names=['School', 'Has_CompSciA', 'Has_CompSciAB',\n",
    "                                                                'Has_CompSciPrinc', 'Has_IB_CompSci', \n",
    "                                                                'Has_CompOpAndSci', 'Has_CompSci', 'Has_ExploringCompSci'])\n",
    "hs_cs = hs_cs.rename({'School': 'ceeb'})\n",
    "# hs_cs.merge(sp07_17, on= 'ceeb', how='left')\n",
    "# sp07_17.merge(hs_cs, left_on='ceeb')"
   ]
  },
  {
   "cell_type": "code",
   "execution_count": 55,
   "metadata": {},
   "outputs": [],
   "source": [
    "hs_cs.columns = ['School', 'Has_CompSciA', 'Has_CompSciAB','Has_CompSciPrinc', 'Has_IB_CompSci', 'Has_CompOpAndSci', 'Has_CompSci', 'Has_ExploringCompSci']"
   ]
  },
  {
   "cell_type": "code",
   "execution_count": 56,
   "metadata": {},
   "outputs": [
    {
     "data": {
      "text/html": [
       "<div>\n",
       "<style scoped>\n",
       "    .dataframe tbody tr th:only-of-type {\n",
       "        vertical-align: middle;\n",
       "    }\n",
       "\n",
       "    .dataframe tbody tr th {\n",
       "        vertical-align: top;\n",
       "    }\n",
       "\n",
       "    .dataframe thead th {\n",
       "        text-align: right;\n",
       "    }\n",
       "</style>\n",
       "<table border=\"1\" class=\"dataframe\">\n",
       "  <thead>\n",
       "    <tr style=\"text-align: right;\">\n",
       "      <th></th>\n",
       "      <th></th>\n",
       "      <th></th>\n",
       "      <th></th>\n",
       "      <th></th>\n",
       "      <th></th>\n",
       "      <th></th>\n",
       "      <th></th>\n",
       "      <th></th>\n",
       "      <th></th>\n",
       "      <th></th>\n",
       "      <th></th>\n",
       "      <th></th>\n",
       "      <th></th>\n",
       "      <th></th>\n",
       "      <th></th>\n",
       "      <th></th>\n",
       "      <th>School</th>\n",
       "      <th>Has_CompSciA</th>\n",
       "      <th>Has_CompSciAB</th>\n",
       "      <th>Has_CompSciPrinc</th>\n",
       "      <th>Has_IB_CompSci</th>\n",
       "      <th>Has_CompOpAndSci</th>\n",
       "      <th>Has_CompSci</th>\n",
       "      <th>Has_ExploringCompSci</th>\n",
       "    </tr>\n",
       "  </thead>\n",
       "  <tbody>\n",
       "    <tr>\n",
       "      <th>Year</th>\n",
       "      <th>County</th>\n",
       "      <th>District</th>\n",
       "      <th>ceeb</th>\n",
       "      <th>Has_CompSciA</th>\n",
       "      <th>Grade_Level_CompSciA</th>\n",
       "      <th>Grade_Perc_CompSciA</th>\n",
       "      <th>Has_CompSciAB</th>\n",
       "      <th>Grade_Level_CompSciAB</th>\n",
       "      <th>Grade_Perc_CompSciAB</th>\n",
       "      <th>Has_CompSciPrinc</th>\n",
       "      <th>Grade_Level_CompSciPrinc</th>\n",
       "      <th>Grade_Perc_CompSciPrinc</th>\n",
       "      <th>Has_IB_CompSci</th>\n",
       "      <th>Grade_Level_IB_CompSci</th>\n",
       "      <th>Grade_Perc_IB_CompSci</th>\n",
       "      <th>Has_CompOpAndSci</th>\n",
       "      <td>Grade_Level_CompOpAndSci</td>\n",
       "      <td>Grade_Perc_CompOpAndSci</td>\n",
       "      <td>Has_CompSci</td>\n",
       "      <td>Grade_Level_CompSci</td>\n",
       "      <td>Grade_Perc_CompSci</td>\n",
       "      <td>Has_ExploringCompSci</td>\n",
       "      <td>Grade_Level_ExploringCompSci</td>\n",
       "      <td>Grade_Perc_ExploringCompSci</td>\n",
       "    </tr>\n",
       "    <tr>\n",
       "      <th>2007</th>\n",
       "      <th>1</th>\n",
       "      <th>10017</th>\n",
       "      <th>0109835</th>\n",
       "      <th>0</th>\n",
       "      <th>NaN</th>\n",
       "      <th>NaN</th>\n",
       "      <th>0</th>\n",
       "      <th>NaN</th>\n",
       "      <th>NaN</th>\n",
       "      <th>0</th>\n",
       "      <th>NaN</th>\n",
       "      <th>NaN</th>\n",
       "      <th>0</th>\n",
       "      <th>NaN</th>\n",
       "      <th>NaN</th>\n",
       "      <th>0</th>\n",
       "      <td>NaN</td>\n",
       "      <td>NaN</td>\n",
       "      <td>1</td>\n",
       "      <td>9</td>\n",
       "      <td>.3773585</td>\n",
       "      <td>0</td>\n",
       "      <td>NaN</td>\n",
       "      <td>NaN</td>\n",
       "    </tr>\n",
       "    <tr>\n",
       "      <th>1997</th>\n",
       "      <th>1</th>\n",
       "      <th>61119</th>\n",
       "      <th>0130229</th>\n",
       "      <th>0</th>\n",
       "      <th>NaN</th>\n",
       "      <th>NaN</th>\n",
       "      <th>0</th>\n",
       "      <th>NaN</th>\n",
       "      <th>NaN</th>\n",
       "      <th>0</th>\n",
       "      <th>NaN</th>\n",
       "      <th>NaN</th>\n",
       "      <th>0</th>\n",
       "      <th>NaN</th>\n",
       "      <th>NaN</th>\n",
       "      <th>1</th>\n",
       "      <td>9</td>\n",
       "      <td>1</td>\n",
       "      <td>1</td>\n",
       "      <td>12</td>\n",
       "      <td>1</td>\n",
       "      <td>0</td>\n",
       "      <td>NaN</td>\n",
       "      <td>NaN</td>\n",
       "    </tr>\n",
       "    <tr>\n",
       "      <th>1999</th>\n",
       "      <th>1</th>\n",
       "      <th>61119</th>\n",
       "      <th>0130229</th>\n",
       "      <th>0</th>\n",
       "      <th>NaN</th>\n",
       "      <th>NaN</th>\n",
       "      <th>0</th>\n",
       "      <th>NaN</th>\n",
       "      <th>NaN</th>\n",
       "      <th>0</th>\n",
       "      <th>NaN</th>\n",
       "      <th>NaN</th>\n",
       "      <th>0</th>\n",
       "      <th>NaN</th>\n",
       "      <th>NaN</th>\n",
       "      <th>1</th>\n",
       "      <td>0</td>\n",
       "      <td>1</td>\n",
       "      <td>0</td>\n",
       "      <td>NaN</td>\n",
       "      <td>NaN</td>\n",
       "      <td>0</td>\n",
       "      <td>NaN</td>\n",
       "      <td>NaN</td>\n",
       "    </tr>\n",
       "    <tr>\n",
       "      <th>2000</th>\n",
       "      <th>1</th>\n",
       "      <th>61119</th>\n",
       "      <th>0130229</th>\n",
       "      <th>1</th>\n",
       "      <th>12</th>\n",
       "      <th>1</th>\n",
       "      <th>0</th>\n",
       "      <th>NaN</th>\n",
       "      <th>NaN</th>\n",
       "      <th>0</th>\n",
       "      <th>NaN</th>\n",
       "      <th>NaN</th>\n",
       "      <th>0</th>\n",
       "      <th>NaN</th>\n",
       "      <th>NaN</th>\n",
       "      <th>1</th>\n",
       "      <td>10</td>\n",
       "      <td>.61290324</td>\n",
       "      <td>0</td>\n",
       "      <td>NaN</td>\n",
       "      <td>NaN</td>\n",
       "      <td>0</td>\n",
       "      <td>NaN</td>\n",
       "      <td>NaN</td>\n",
       "    </tr>\n",
       "    <tr>\n",
       "      <th>...</th>\n",
       "      <th>...</th>\n",
       "      <th>...</th>\n",
       "      <th>...</th>\n",
       "      <th>...</th>\n",
       "      <th>...</th>\n",
       "      <th>...</th>\n",
       "      <th>...</th>\n",
       "      <th>...</th>\n",
       "      <th>...</th>\n",
       "      <th>...</th>\n",
       "      <th>...</th>\n",
       "      <th>...</th>\n",
       "      <th>...</th>\n",
       "      <th>...</th>\n",
       "      <th>...</th>\n",
       "      <th>...</th>\n",
       "      <td>...</td>\n",
       "      <td>...</td>\n",
       "      <td>...</td>\n",
       "      <td>...</td>\n",
       "      <td>...</td>\n",
       "      <td>...</td>\n",
       "      <td>...</td>\n",
       "      <td>...</td>\n",
       "    </tr>\n",
       "    <tr>\n",
       "      <th>2005</th>\n",
       "      <th>58</th>\n",
       "      <th>72769</th>\n",
       "      <th>5838305</th>\n",
       "      <th>0</th>\n",
       "      <th>NaN</th>\n",
       "      <th>NaN</th>\n",
       "      <th>0</th>\n",
       "      <th>NaN</th>\n",
       "      <th>NaN</th>\n",
       "      <th>0</th>\n",
       "      <th>NaN</th>\n",
       "      <th>NaN</th>\n",
       "      <th>0</th>\n",
       "      <th>NaN</th>\n",
       "      <th>NaN</th>\n",
       "      <th>1</th>\n",
       "      <td>0</td>\n",
       "      <td>1</td>\n",
       "      <td>0</td>\n",
       "      <td>NaN</td>\n",
       "      <td>NaN</td>\n",
       "      <td>0</td>\n",
       "      <td>NaN</td>\n",
       "      <td>NaN</td>\n",
       "    </tr>\n",
       "    <tr>\n",
       "      <th>2006</th>\n",
       "      <th>58</th>\n",
       "      <th>72769</th>\n",
       "      <th>5838305</th>\n",
       "      <th>0</th>\n",
       "      <th>NaN</th>\n",
       "      <th>NaN</th>\n",
       "      <th>0</th>\n",
       "      <th>NaN</th>\n",
       "      <th>NaN</th>\n",
       "      <th>0</th>\n",
       "      <th>NaN</th>\n",
       "      <th>NaN</th>\n",
       "      <th>0</th>\n",
       "      <th>NaN</th>\n",
       "      <th>NaN</th>\n",
       "      <th>1</th>\n",
       "      <td>0</td>\n",
       "      <td>1</td>\n",
       "      <td>0</td>\n",
       "      <td>NaN</td>\n",
       "      <td>NaN</td>\n",
       "      <td>0</td>\n",
       "      <td>NaN</td>\n",
       "      <td>NaN</td>\n",
       "    </tr>\n",
       "    <tr>\n",
       "      <th>2007</th>\n",
       "      <th>58</th>\n",
       "      <th>72769</th>\n",
       "      <th>5838305</th>\n",
       "      <th>0</th>\n",
       "      <th>NaN</th>\n",
       "      <th>NaN</th>\n",
       "      <th>0</th>\n",
       "      <th>NaN</th>\n",
       "      <th>NaN</th>\n",
       "      <th>0</th>\n",
       "      <th>NaN</th>\n",
       "      <th>NaN</th>\n",
       "      <th>0</th>\n",
       "      <th>NaN</th>\n",
       "      <th>NaN</th>\n",
       "      <th>1</th>\n",
       "      <td>0</td>\n",
       "      <td>1</td>\n",
       "      <td>0</td>\n",
       "      <td>NaN</td>\n",
       "      <td>NaN</td>\n",
       "      <td>0</td>\n",
       "      <td>NaN</td>\n",
       "      <td>NaN</td>\n",
       "    </tr>\n",
       "    <tr>\n",
       "      <th>2008</th>\n",
       "      <th>58</th>\n",
       "      <th>72769</th>\n",
       "      <th>5838305</th>\n",
       "      <th>0</th>\n",
       "      <th>NaN</th>\n",
       "      <th>NaN</th>\n",
       "      <th>0</th>\n",
       "      <th>NaN</th>\n",
       "      <th>NaN</th>\n",
       "      <th>0</th>\n",
       "      <th>NaN</th>\n",
       "      <th>NaN</th>\n",
       "      <th>0</th>\n",
       "      <th>NaN</th>\n",
       "      <th>NaN</th>\n",
       "      <th>1</th>\n",
       "      <td>0</td>\n",
       "      <td>1</td>\n",
       "      <td>0</td>\n",
       "      <td>NaN</td>\n",
       "      <td>NaN</td>\n",
       "      <td>0</td>\n",
       "      <td>NaN</td>\n",
       "      <td>NaN</td>\n",
       "    </tr>\n",
       "    <tr>\n",
       "      <th>2012</th>\n",
       "      <th>58</th>\n",
       "      <th>72769</th>\n",
       "      <th>5838305</th>\n",
       "      <th>0</th>\n",
       "      <th>NaN</th>\n",
       "      <th>NaN</th>\n",
       "      <th>0</th>\n",
       "      <th>NaN</th>\n",
       "      <th>NaN</th>\n",
       "      <th>0</th>\n",
       "      <th>NaN</th>\n",
       "      <th>NaN</th>\n",
       "      <th>0</th>\n",
       "      <th>NaN</th>\n",
       "      <th>NaN</th>\n",
       "      <th>0</th>\n",
       "      <td>NaN</td>\n",
       "      <td>NaN</td>\n",
       "      <td>1</td>\n",
       "      <td>10</td>\n",
       "      <td>.34042552</td>\n",
       "      <td>0</td>\n",
       "      <td>NaN</td>\n",
       "      <td>NaN</td>\n",
       "    </tr>\n",
       "  </tbody>\n",
       "</table>\n",
       "<p>8317 rows × 8 columns</p>\n",
       "</div>"
      ],
      "text/plain": [
       "                                                                                                                                                                                                                                                                                                              School  \\\n",
       "Year County District ceeb    Has_CompSciA Grade_Level_CompSciA Grade_Perc_CompSciA Has_CompSciAB Grade_Level_CompSciAB Grade_Perc_CompSciAB Has_CompSciPrinc Grade_Level_CompSciPrinc Grade_Perc_CompSciPrinc Has_IB_CompSci Grade_Level_IB_CompSci Grade_Perc_IB_CompSci Has_CompOpAndSci  Grade_Level_CompOpAndSci   \n",
       "2007 1      10017    0109835 0            NaN                  NaN                 0             NaN                   NaN                  0                NaN                      NaN                     0              NaN                    NaN                   0                                      NaN   \n",
       "1997 1      61119    0130229 0            NaN                  NaN                 0             NaN                   NaN                  0                NaN                      NaN                     0              NaN                    NaN                   1                                        9   \n",
       "1999 1      61119    0130229 0            NaN                  NaN                 0             NaN                   NaN                  0                NaN                      NaN                     0              NaN                    NaN                   1                                        0   \n",
       "2000 1      61119    0130229 1            12                   1                   0             NaN                   NaN                  0                NaN                      NaN                     0              NaN                    NaN                   1                                       10   \n",
       "...                                                                                                                                                                                                                                                                                                              ...   \n",
       "2005 58     72769    5838305 0            NaN                  NaN                 0             NaN                   NaN                  0                NaN                      NaN                     0              NaN                    NaN                   1                                        0   \n",
       "2006 58     72769    5838305 0            NaN                  NaN                 0             NaN                   NaN                  0                NaN                      NaN                     0              NaN                    NaN                   1                                        0   \n",
       "2007 58     72769    5838305 0            NaN                  NaN                 0             NaN                   NaN                  0                NaN                      NaN                     0              NaN                    NaN                   1                                        0   \n",
       "2008 58     72769    5838305 0            NaN                  NaN                 0             NaN                   NaN                  0                NaN                      NaN                     0              NaN                    NaN                   1                                        0   \n",
       "2012 58     72769    5838305 0            NaN                  NaN                 0             NaN                   NaN                  0                NaN                      NaN                     0              NaN                    NaN                   0                                      NaN   \n",
       "\n",
       "                                                                                                                                                                                                                                                                                                       Has_CompSciA  \\\n",
       "Year County District ceeb    Has_CompSciA Grade_Level_CompSciA Grade_Perc_CompSciA Has_CompSciAB Grade_Level_CompSciAB Grade_Perc_CompSciAB Has_CompSciPrinc Grade_Level_CompSciPrinc Grade_Perc_CompSciPrinc Has_IB_CompSci Grade_Level_IB_CompSci Grade_Perc_IB_CompSci Has_CompOpAndSci  Grade_Perc_CompOpAndSci   \n",
       "2007 1      10017    0109835 0            NaN                  NaN                 0             NaN                   NaN                  0                NaN                      NaN                     0              NaN                    NaN                   0                                     NaN   \n",
       "1997 1      61119    0130229 0            NaN                  NaN                 0             NaN                   NaN                  0                NaN                      NaN                     0              NaN                    NaN                   1                                       1   \n",
       "1999 1      61119    0130229 0            NaN                  NaN                 0             NaN                   NaN                  0                NaN                      NaN                     0              NaN                    NaN                   1                                       1   \n",
       "2000 1      61119    0130229 1            12                   1                   0             NaN                   NaN                  0                NaN                      NaN                     0              NaN                    NaN                   1                               .61290324   \n",
       "...                                                                                                                                                                                                                                                                                                             ...   \n",
       "2005 58     72769    5838305 0            NaN                  NaN                 0             NaN                   NaN                  0                NaN                      NaN                     0              NaN                    NaN                   1                                       1   \n",
       "2006 58     72769    5838305 0            NaN                  NaN                 0             NaN                   NaN                  0                NaN                      NaN                     0              NaN                    NaN                   1                                       1   \n",
       "2007 58     72769    5838305 0            NaN                  NaN                 0             NaN                   NaN                  0                NaN                      NaN                     0              NaN                    NaN                   1                                       1   \n",
       "2008 58     72769    5838305 0            NaN                  NaN                 0             NaN                   NaN                  0                NaN                      NaN                     0              NaN                    NaN                   1                                       1   \n",
       "2012 58     72769    5838305 0            NaN                  NaN                 0             NaN                   NaN                  0                NaN                      NaN                     0              NaN                    NaN                   0                                     NaN   \n",
       "\n",
       "                                                                                                                                                                                                                                                                                           Has_CompSciAB  \\\n",
       "Year County District ceeb    Has_CompSciA Grade_Level_CompSciA Grade_Perc_CompSciA Has_CompSciAB Grade_Level_CompSciAB Grade_Perc_CompSciAB Has_CompSciPrinc Grade_Level_CompSciPrinc Grade_Perc_CompSciPrinc Has_IB_CompSci Grade_Level_IB_CompSci Grade_Perc_IB_CompSci Has_CompOpAndSci   Has_CompSci   \n",
       "2007 1      10017    0109835 0            NaN                  NaN                 0             NaN                   NaN                  0                NaN                      NaN                     0              NaN                    NaN                   0                            1   \n",
       "1997 1      61119    0130229 0            NaN                  NaN                 0             NaN                   NaN                  0                NaN                      NaN                     0              NaN                    NaN                   1                            1   \n",
       "1999 1      61119    0130229 0            NaN                  NaN                 0             NaN                   NaN                  0                NaN                      NaN                     0              NaN                    NaN                   1                            0   \n",
       "2000 1      61119    0130229 1            12                   1                   0             NaN                   NaN                  0                NaN                      NaN                     0              NaN                    NaN                   1                            0   \n",
       "...                                                                                                                                                                                                                                                                                                  ...   \n",
       "2005 58     72769    5838305 0            NaN                  NaN                 0             NaN                   NaN                  0                NaN                      NaN                     0              NaN                    NaN                   1                            0   \n",
       "2006 58     72769    5838305 0            NaN                  NaN                 0             NaN                   NaN                  0                NaN                      NaN                     0              NaN                    NaN                   1                            0   \n",
       "2007 58     72769    5838305 0            NaN                  NaN                 0             NaN                   NaN                  0                NaN                      NaN                     0              NaN                    NaN                   1                            0   \n",
       "2008 58     72769    5838305 0            NaN                  NaN                 0             NaN                   NaN                  0                NaN                      NaN                     0              NaN                    NaN                   1                            0   \n",
       "2012 58     72769    5838305 0            NaN                  NaN                 0             NaN                   NaN                  0                NaN                      NaN                     0              NaN                    NaN                   0                            1   \n",
       "\n",
       "                                                                                                                                                                                                                                                                                               Has_CompSciPrinc  \\\n",
       "Year County District ceeb    Has_CompSciA Grade_Level_CompSciA Grade_Perc_CompSciA Has_CompSciAB Grade_Level_CompSciAB Grade_Perc_CompSciAB Has_CompSciPrinc Grade_Level_CompSciPrinc Grade_Perc_CompSciPrinc Has_IB_CompSci Grade_Level_IB_CompSci Grade_Perc_IB_CompSci Has_CompOpAndSci  Grade_Level_CompSci   \n",
       "2007 1      10017    0109835 0            NaN                  NaN                 0             NaN                   NaN                  0                NaN                      NaN                     0              NaN                    NaN                   0                                   9   \n",
       "1997 1      61119    0130229 0            NaN                  NaN                 0             NaN                   NaN                  0                NaN                      NaN                     0              NaN                    NaN                   1                                  12   \n",
       "1999 1      61119    0130229 0            NaN                  NaN                 0             NaN                   NaN                  0                NaN                      NaN                     0              NaN                    NaN                   1                                 NaN   \n",
       "2000 1      61119    0130229 1            12                   1                   0             NaN                   NaN                  0                NaN                      NaN                     0              NaN                    NaN                   1                                 NaN   \n",
       "...                                                                                                                                                                                                                                                                                                         ...   \n",
       "2005 58     72769    5838305 0            NaN                  NaN                 0             NaN                   NaN                  0                NaN                      NaN                     0              NaN                    NaN                   1                                 NaN   \n",
       "2006 58     72769    5838305 0            NaN                  NaN                 0             NaN                   NaN                  0                NaN                      NaN                     0              NaN                    NaN                   1                                 NaN   \n",
       "2007 58     72769    5838305 0            NaN                  NaN                 0             NaN                   NaN                  0                NaN                      NaN                     0              NaN                    NaN                   1                                 NaN   \n",
       "2008 58     72769    5838305 0            NaN                  NaN                 0             NaN                   NaN                  0                NaN                      NaN                     0              NaN                    NaN                   1                                 NaN   \n",
       "2012 58     72769    5838305 0            NaN                  NaN                 0             NaN                   NaN                  0                NaN                      NaN                     0              NaN                    NaN                   0                                  10   \n",
       "\n",
       "                                                                                                                                                                                                                                                                                                Has_IB_CompSci  \\\n",
       "Year County District ceeb    Has_CompSciA Grade_Level_CompSciA Grade_Perc_CompSciA Has_CompSciAB Grade_Level_CompSciAB Grade_Perc_CompSciAB Has_CompSciPrinc Grade_Level_CompSciPrinc Grade_Perc_CompSciPrinc Has_IB_CompSci Grade_Level_IB_CompSci Grade_Perc_IB_CompSci Has_CompOpAndSci  Grade_Perc_CompSci   \n",
       "2007 1      10017    0109835 0            NaN                  NaN                 0             NaN                   NaN                  0                NaN                      NaN                     0              NaN                    NaN                   0                           .3773585   \n",
       "1997 1      61119    0130229 0            NaN                  NaN                 0             NaN                   NaN                  0                NaN                      NaN                     0              NaN                    NaN                   1                                  1   \n",
       "1999 1      61119    0130229 0            NaN                  NaN                 0             NaN                   NaN                  0                NaN                      NaN                     0              NaN                    NaN                   1                                NaN   \n",
       "2000 1      61119    0130229 1            12                   1                   0             NaN                   NaN                  0                NaN                      NaN                     0              NaN                    NaN                   1                                NaN   \n",
       "...                                                                                                                                                                                                                                                                                                        ...   \n",
       "2005 58     72769    5838305 0            NaN                  NaN                 0             NaN                   NaN                  0                NaN                      NaN                     0              NaN                    NaN                   1                                NaN   \n",
       "2006 58     72769    5838305 0            NaN                  NaN                 0             NaN                   NaN                  0                NaN                      NaN                     0              NaN                    NaN                   1                                NaN   \n",
       "2007 58     72769    5838305 0            NaN                  NaN                 0             NaN                   NaN                  0                NaN                      NaN                     0              NaN                    NaN                   1                                NaN   \n",
       "2008 58     72769    5838305 0            NaN                  NaN                 0             NaN                   NaN                  0                NaN                      NaN                     0              NaN                    NaN                   1                                NaN   \n",
       "2012 58     72769    5838305 0            NaN                  NaN                 0             NaN                   NaN                  0                NaN                      NaN                     0              NaN                    NaN                   0                          .34042552   \n",
       "\n",
       "                                                                                                                                                                                                                                                                                                Has_CompOpAndSci  \\\n",
       "Year County District ceeb    Has_CompSciA Grade_Level_CompSciA Grade_Perc_CompSciA Has_CompSciAB Grade_Level_CompSciAB Grade_Perc_CompSciAB Has_CompSciPrinc Grade_Level_CompSciPrinc Grade_Perc_CompSciPrinc Has_IB_CompSci Grade_Level_IB_CompSci Grade_Perc_IB_CompSci Has_CompOpAndSci  Has_ExploringCompSci   \n",
       "2007 1      10017    0109835 0            NaN                  NaN                 0             NaN                   NaN                  0                NaN                      NaN                     0              NaN                    NaN                   0                                    0   \n",
       "1997 1      61119    0130229 0            NaN                  NaN                 0             NaN                   NaN                  0                NaN                      NaN                     0              NaN                    NaN                   1                                    0   \n",
       "1999 1      61119    0130229 0            NaN                  NaN                 0             NaN                   NaN                  0                NaN                      NaN                     0              NaN                    NaN                   1                                    0   \n",
       "2000 1      61119    0130229 1            12                   1                   0             NaN                   NaN                  0                NaN                      NaN                     0              NaN                    NaN                   1                                    0   \n",
       "...                                                                                                                                                                                                                                                                                                          ...   \n",
       "2005 58     72769    5838305 0            NaN                  NaN                 0             NaN                   NaN                  0                NaN                      NaN                     0              NaN                    NaN                   1                                    0   \n",
       "2006 58     72769    5838305 0            NaN                  NaN                 0             NaN                   NaN                  0                NaN                      NaN                     0              NaN                    NaN                   1                                    0   \n",
       "2007 58     72769    5838305 0            NaN                  NaN                 0             NaN                   NaN                  0                NaN                      NaN                     0              NaN                    NaN                   1                                    0   \n",
       "2008 58     72769    5838305 0            NaN                  NaN                 0             NaN                   NaN                  0                NaN                      NaN                     0              NaN                    NaN                   1                                    0   \n",
       "2012 58     72769    5838305 0            NaN                  NaN                 0             NaN                   NaN                  0                NaN                      NaN                     0              NaN                    NaN                   0                                    0   \n",
       "\n",
       "                                                                                                                                                                                                                                                                                                             Has_CompSci  \\\n",
       "Year County District ceeb    Has_CompSciA Grade_Level_CompSciA Grade_Perc_CompSciA Has_CompSciAB Grade_Level_CompSciAB Grade_Perc_CompSciAB Has_CompSciPrinc Grade_Level_CompSciPrinc Grade_Perc_CompSciPrinc Has_IB_CompSci Grade_Level_IB_CompSci Grade_Perc_IB_CompSci Has_CompOpAndSci  Grade_Level_ExploringCompSci   \n",
       "2007 1      10017    0109835 0            NaN                  NaN                 0             NaN                   NaN                  0                NaN                      NaN                     0              NaN                    NaN                   0                                          NaN   \n",
       "1997 1      61119    0130229 0            NaN                  NaN                 0             NaN                   NaN                  0                NaN                      NaN                     0              NaN                    NaN                   1                                          NaN   \n",
       "1999 1      61119    0130229 0            NaN                  NaN                 0             NaN                   NaN                  0                NaN                      NaN                     0              NaN                    NaN                   1                                          NaN   \n",
       "2000 1      61119    0130229 1            12                   1                   0             NaN                   NaN                  0                NaN                      NaN                     0              NaN                    NaN                   1                                          NaN   \n",
       "...                                                                                                                                                                                                                                                                                                                  ...   \n",
       "2005 58     72769    5838305 0            NaN                  NaN                 0             NaN                   NaN                  0                NaN                      NaN                     0              NaN                    NaN                   1                                          NaN   \n",
       "2006 58     72769    5838305 0            NaN                  NaN                 0             NaN                   NaN                  0                NaN                      NaN                     0              NaN                    NaN                   1                                          NaN   \n",
       "2007 58     72769    5838305 0            NaN                  NaN                 0             NaN                   NaN                  0                NaN                      NaN                     0              NaN                    NaN                   1                                          NaN   \n",
       "2008 58     72769    5838305 0            NaN                  NaN                 0             NaN                   NaN                  0                NaN                      NaN                     0              NaN                    NaN                   1                                          NaN   \n",
       "2012 58     72769    5838305 0            NaN                  NaN                 0             NaN                   NaN                  0                NaN                      NaN                     0              NaN                    NaN                   0                                          NaN   \n",
       "\n",
       "                                                                                                                                                                                                                                                                                                   Has_ExploringCompSci  \n",
       "Year County District ceeb    Has_CompSciA Grade_Level_CompSciA Grade_Perc_CompSciA Has_CompSciAB Grade_Level_CompSciAB Grade_Perc_CompSciAB Has_CompSciPrinc Grade_Level_CompSciPrinc Grade_Perc_CompSciPrinc Has_IB_CompSci Grade_Level_IB_CompSci Grade_Perc_IB_CompSci Has_CompOpAndSci  Grade_Perc_ExploringCompSci  \n",
       "2007 1      10017    0109835 0            NaN                  NaN                 0             NaN                   NaN                  0                NaN                      NaN                     0              NaN                    NaN                   0                                         NaN  \n",
       "1997 1      61119    0130229 0            NaN                  NaN                 0             NaN                   NaN                  0                NaN                      NaN                     0              NaN                    NaN                   1                                         NaN  \n",
       "1999 1      61119    0130229 0            NaN                  NaN                 0             NaN                   NaN                  0                NaN                      NaN                     0              NaN                    NaN                   1                                         NaN  \n",
       "2000 1      61119    0130229 1            12                   1                   0             NaN                   NaN                  0                NaN                      NaN                     0              NaN                    NaN                   1                                         NaN  \n",
       "...                                                                                                                                                                                                                                                                                                                 ...  \n",
       "2005 58     72769    5838305 0            NaN                  NaN                 0             NaN                   NaN                  0                NaN                      NaN                     0              NaN                    NaN                   1                                         NaN  \n",
       "2006 58     72769    5838305 0            NaN                  NaN                 0             NaN                   NaN                  0                NaN                      NaN                     0              NaN                    NaN                   1                                         NaN  \n",
       "2007 58     72769    5838305 0            NaN                  NaN                 0             NaN                   NaN                  0                NaN                      NaN                     0              NaN                    NaN                   1                                         NaN  \n",
       "2008 58     72769    5838305 0            NaN                  NaN                 0             NaN                   NaN                  0                NaN                      NaN                     0              NaN                    NaN                   1                                         NaN  \n",
       "2012 58     72769    5838305 0            NaN                  NaN                 0             NaN                   NaN                  0                NaN                      NaN                     0              NaN                    NaN                   0                                         NaN  \n",
       "\n",
       "[8317 rows x 8 columns]"
      ]
     },
     "execution_count": 56,
     "metadata": {},
     "output_type": "execute_result"
    }
   ],
   "source": [
    "hs_cs"
   ]
  },
  {
   "cell_type": "code",
   "execution_count": 6,
   "metadata": {},
   "outputs": [
    {
     "data": {
      "text/plain": [
       "527"
      ]
     },
     "execution_count": 6,
     "metadata": {},
     "output_type": "execute_result"
    }
   ],
   "source": [
    "#things to compare: \n",
    "females_only['major.intended.department'].value_counts().loc['L&S Computer Science']"
   ]
  },
  {
   "cell_type": "code",
   "execution_count": 28,
   "metadata": {},
   "outputs": [
    {
     "data": {
      "text/plain": [
       "1634"
      ]
     },
     "execution_count": 28,
     "metadata": {},
     "output_type": "execute_result"
    }
   ],
   "source": [
    "males_only = stem_pathways_2007_2017[stem_pathways_2007_2017['gender'] == 'Male']\n",
    "males_only['major.intended.department'].value_counts().loc['L&S Computer Science']"
   ]
  },
  {
   "cell_type": "code",
   "execution_count": 34,
   "metadata": {},
   "outputs": [
    {
     "data": {
      "text/plain": [
       "year  major.intended.department     \n",
       "2007  L&S Undeclared                    1073\n",
       "      Molecular & Cell Biology           409\n",
       "      English                            224\n",
       "      Psychology                         218\n",
       "      Political Science                  170\n",
       "                                        ... \n",
       "2016  Nuclear Engineering                  2\n",
       "      South & SE Asian Studies             2\n",
       "      Italian Studies                      1\n",
       "      Scandinavian                         1\n",
       "      Slavic Languages & Literatures       1\n",
       "Name: major.intended.department, Length: 668, dtype: int64"
      ]
     },
     "execution_count": 34,
     "metadata": {},
     "output_type": "execute_result"
    }
   ],
   "source": [
    "females_only.groupby('year')['major.intended.department'].value_counts()"
   ]
  },
  {
   "cell_type": "code",
   "execution_count": 38,
   "metadata": {},
   "outputs": [
    {
     "data": {
      "text/plain": [
       "ethnic.l1               major.intended.department     \n",
       "Asian/Pacific Islander  L&S Undeclared                    3802\n",
       "                        Molecular & Cell Biology          2367\n",
       "                        Economics                          844\n",
       "                        Psychology                         678\n",
       "                        English                            513\n",
       "                                                          ... \n",
       "White/Other             Other Math & Physical Sci Pgms      10\n",
       "                        L&S Ops Rsch & Mgmt Sci              6\n",
       "                        Engineering Joint Programs           5\n",
       "                        South & SE Asian Studies             4\n",
       "                        African American Studies             2\n",
       "Name: major.intended.department, Length: 268, dtype: int64"
      ]
     },
     "execution_count": 38,
     "metadata": {},
     "output_type": "execute_result"
    }
   ],
   "source": [
    "females_only.groupby('ethnic.l1')['major.intended.department'].value_counts()"
   ]
  },
  {
   "cell_type": "code",
   "execution_count": 39,
   "metadata": {},
   "outputs": [
    {
     "data": {
      "text/plain": [
       "ethnic.l1               major.intended.department    \n",
       "Asian/Pacific Islander  L&S Undeclared                   2587\n",
       "                        Electrical Eng & Computer Sci    1462\n",
       "                        Molecular & Cell Biology         1440\n",
       "                        Economics                         927\n",
       "                        L&S Computer Science              853\n",
       "                                                         ... \n",
       "White/Other             Ethnic Studies                      7\n",
       "                        Italian Studies                     6\n",
       "                        African American Studies            4\n",
       "                        Gender & Womens Studies             4\n",
       "                        Other Chemistry Programs            3\n",
       "Name: major.intended.department, Length: 273, dtype: int64"
      ]
     },
     "execution_count": 39,
     "metadata": {},
     "output_type": "execute_result"
    }
   ],
   "source": [
    "males_only.groupby('ethnic.l1')['major.intended.department'].value_counts()"
   ]
  },
  {
   "cell_type": "code",
   "execution_count": 42,
   "metadata": {},
   "outputs": [
    {
     "name": "stderr",
     "output_type": "stream",
     "text": [
      "/opt/conda/lib/python3.8/site-packages/seaborn/_decorators.py:36: FutureWarning: Pass the following variable as a keyword arg: x. From version 0.12, the only valid positional argument will be `data`, and passing other arguments without an explicit keyword will result in an error or misinterpretation.\n",
      "  warnings.warn(\n"
     ]
    },
    {
     "data": {
      "text/plain": [
       "<matplotlib.axes._subplots.AxesSubplot at 0x7f74009acbe0>"
      ]
     },
     "execution_count": 42,
     "metadata": {},
     "output_type": "execute_result"
    },
    {
     "data": {
      "image/png": "[encoded data removed]",
      "text/plain": [
       "<Figure size 432x288 with 1 Axes>"
      ]
     },
     "metadata": {},
     "output_type": "display_data"
    }
   ],
   "source": [
    "sns.countplot(females_only['ethnic.l1'])"
   ]
  },
  {
   "cell_type": "code",
   "execution_count": 89,
   "metadata": {},
   "outputs": [],
   "source": [
    "females_only['major.intended.department'].unique()\n",
    "filtered = females_only['major.intended.department'].isin(top10)\n",
    "majors = females_only[filtered]"
   ]
  },
  {
   "cell_type": "code",
   "execution_count": 90,
   "metadata": {},
   "outputs": [
    {
     "data": {
      "text/plain": [
       "<matplotlib.axes._subplots.AxesSubplot at 0x7f73b6c76460>"
      ]
     },
     "execution_count": 90,
     "metadata": {},
     "output_type": "execute_result"
    },
    {
     "data": {
      "image/png": "[encoded data removed]",
      "text/plain": [
       "<Figure size 2400x1200 with 1 Axes>"
      ]
     },
     "metadata": {},
     "output_type": "display_data"
    }
   ],
   "source": [
    "plt.rcParams['figure.figsize'] = (16,8)\n",
    "plt.rcParams['figure.dpi'] = 150\n",
    "sns.set()\n",
    "sns.barplot(x ='major.intended.department', y='hs.api', data=majors)"
   ]
  },
  {
   "cell_type": "code",
   "execution_count": null,
   "metadata": {},
   "outputs": [],
   "source": [
    "for i in top10: \n",
    "    sns.lineplot('hs.api', ysmooth, label=i)\n",
    "    plt.legend();"
   ]
  },
  {
   "cell_type": "code",
   "execution_count": 47,
   "metadata": {},
   "outputs": [],
   "source": [
    "by_api = females_only.groupby('hs.api')['major.intended.department'].value_counts()"
   ]
  },
  {
   "cell_type": "code",
   "execution_count": 64,
   "metadata": {},
   "outputs": [
    {
     "data": {
      "text/plain": [
       "array(['Landscape Arch & Env Plan', 'Slavic Languages & Literatures',\n",
       "       'Architecture', 'Anthropology', 'Env Sci, Policy, & Mgmt',\n",
       "       'Economics', 'History', 'Philosophy', 'Sociology',\n",
       "       'UG Interdisciplinary Studies', 'English',\n",
       "       'Interdisc Social Science Pgms', 'Mathematics', 'History of Art',\n",
       "       'Psychology', 'Linguistics', 'Rhetoric', 'L&S Computer Science',\n",
       "       'Mechanical Engineering', 'Geography', 'Ag & Resource Econ & Pol',\n",
       "       'Political Science', 'Art Practice', 'Business', 'Astronomy',\n",
       "       'Molecular & Cell Biology', 'Spanish & Portuguese',\n",
       "       'L&S Envir Econ & Policy', 'East Asian Lang & Culture',\n",
       "       'City & Regional Planning', 'Nutritional Sciences & Tox', 'German',\n",
       "       'Plant & Microbial Biology', 'Integrative Biology',\n",
       "       'Gender & Womens Studies', 'French', 'Bioengineering',\n",
       "       'L&S Public Health', 'L&S Undeclared', 'Ethnic Studies',\n",
       "       'Film and Media', 'L&S Chemistry', 'Chem & Biomolecular Eng',\n",
       "       'Physics', 'Chemistry', 'Comparative Literature',\n",
       "       'L&S Legal Studies', 'L&S Ops Rsch & Mgmt Sci',\n",
       "       'Electrical Eng & Computer Sci', 'Music', 'Scandinavian',\n",
       "       'South & SE Asian Studies', 'Near Eastern Studies',\n",
       "       'Theater Dance & Perf Stds', 'Civil & Environmental Eng',\n",
       "       'Engineering Science', 'L&S Social Welfare',\n",
       "       'Earth & Planetary Science', 'Classics',\n",
       "       'Other Math & Physical Sci Pgms', 'Statistics',\n",
       "       'Industrial Eng & Ops Research', 'Other Clg of Natural Res Pgms',\n",
       "       nan, 'African American Studies', 'Materials Science & Eng',\n",
       "       'Other Chemistry Programs', 'Italian Studies',\n",
       "       'Nuclear Engineering', 'Engineering Joint Programs'], dtype=object)"
      ]
     },
     "execution_count": 64,
     "metadata": {},
     "output_type": "execute_result"
    }
   ],
   "source": [
    "females_only['major.intended.department'].unique()\n"
   ]
  },
  {
   "cell_type": "code",
   "execution_count": 88,
   "metadata": {},
   "outputs": [
    {
     "data": {
      "text/plain": [
       "['L&S Undeclared',\n",
       " 'Molecular & Cell Biology',\n",
       " 'Psychology',\n",
       " 'English',\n",
       " 'Political Science',\n",
       " 'Economics',\n",
       " 'Interdisc Social Science Pgms',\n",
       " 'UG Interdisciplinary Studies',\n",
       " 'Env Sci, Policy, & Mgmt',\n",
       " 'Mathematics',\n",
       " 'L&S Computer Science']"
      ]
     },
     "execution_count": 88,
     "metadata": {},
     "output_type": "execute_result"
    }
   ],
   "source": [
    "want = females_only['major.intended.department'].value_counts().sort_values(ascending=False).head(10)\n",
    "top10 = list(want.index.values) + ['L&S Computer Science']\n",
    "top10 "
   ]
  },
  {
   "cell_type": "code",
   "execution_count": 64,
   "metadata": {},
   "outputs": [
    {
     "data": {
      "text/html": [
       "<div>\n",
       "<style scoped>\n",
       "    .dataframe tbody tr th:only-of-type {\n",
       "        vertical-align: middle;\n",
       "    }\n",
       "\n",
       "    .dataframe tbody tr th {\n",
       "        vertical-align: top;\n",
       "    }\n",
       "\n",
       "    .dataframe thead th {\n",
       "        text-align: right;\n",
       "    }\n",
       "</style>\n",
       "<table border=\"1\" class=\"dataframe\">\n",
       "  <thead>\n",
       "    <tr style=\"text-align: right;\">\n",
       "      <th></th>\n",
       "      <th></th>\n",
       "      <th>Count of Students</th>\n",
       "    </tr>\n",
       "    <tr>\n",
       "      <th>gender</th>\n",
       "      <th>year</th>\n",
       "      <th></th>\n",
       "    </tr>\n",
       "  </thead>\n",
       "  <tbody>\n",
       "    <tr>\n",
       "      <th>Decline to State</th>\n",
       "      <th>2016.0</th>\n",
       "      <td>65</td>\n",
       "    </tr>\n",
       "    <tr>\n",
       "      <th rowspan=\"5\" valign=\"top\">Female</th>\n",
       "      <th>2008.0</th>\n",
       "      <td>2</td>\n",
       "    </tr>\n",
       "    <tr>\n",
       "      <th>2011.0</th>\n",
       "      <td>2</td>\n",
       "    </tr>\n",
       "    <tr>\n",
       "      <th>2014.0</th>\n",
       "      <td>8</td>\n",
       "    </tr>\n",
       "    <tr>\n",
       "      <th>2015.0</th>\n",
       "      <td>175</td>\n",
       "    </tr>\n",
       "    <tr>\n",
       "      <th>2016.0</th>\n",
       "      <td>393</td>\n",
       "    </tr>\n",
       "    <tr>\n",
       "      <th rowspan=\"7\" valign=\"top\">Male</th>\n",
       "      <th>2009.0</th>\n",
       "      <td>1</td>\n",
       "    </tr>\n",
       "    <tr>\n",
       "      <th>2011.0</th>\n",
       "      <td>5</td>\n",
       "    </tr>\n",
       "    <tr>\n",
       "      <th>2012.0</th>\n",
       "      <td>5</td>\n",
       "    </tr>\n",
       "    <tr>\n",
       "      <th>2013.0</th>\n",
       "      <td>13</td>\n",
       "    </tr>\n",
       "    <tr>\n",
       "      <th>2014.0</th>\n",
       "      <td>18</td>\n",
       "    </tr>\n",
       "    <tr>\n",
       "      <th>2015.0</th>\n",
       "      <td>433</td>\n",
       "    </tr>\n",
       "    <tr>\n",
       "      <th>2016.0</th>\n",
       "      <td>933</td>\n",
       "    </tr>\n",
       "  </tbody>\n",
       "</table>\n",
       "</div>"
      ],
      "text/plain": [
       "                         Count of Students\n",
       "gender           year                     \n",
       "Decline to State 2016.0                 65\n",
       "Female           2008.0                  2\n",
       "                 2011.0                  2\n",
       "                 2014.0                  8\n",
       "                 2015.0                175\n",
       "                 2016.0                393\n",
       "Male             2009.0                  1\n",
       "                 2011.0                  5\n",
       "                 2012.0                  5\n",
       "                 2013.0                 13\n",
       "                 2014.0                 18\n",
       "                 2015.0                433\n",
       "                 2016.0                933"
      ]
     },
     "execution_count": 64,
     "metadata": {},
     "output_type": "execute_result"
    }
   ],
   "source": [
    "#what major people declared in 2019\n",
    "majors2019 = pd.read_csv(\"uc.berkeley.student.majors.2019.txt\", sep=\"\\t\", low_memory=False)\n",
    "\n",
    "#people who declared CS merged with their application data. People who declared in 2019 likely applied in 2017.\n",
    "#Plan: merge all major data with application data. Compare what they applied with to what they declared. \n",
    "merged = majors2019[majors2019['major']=='L&S Computer Science'].merge(stem_pathways_2007_2017, how='left', on='ppsk')\n",
    "\n",
    "#count of female CS majors and male CS majors per year \n",
    "num_cs_majors_by_year = merged.groupby(['gender', 'year']).agg(sum)\n",
    "num_cs_majors_by_year['Count of Students'].to_frame()"
   ]
  },
  {
   "cell_type": "code",
   "execution_count": 71,
   "metadata": {},
   "outputs": [
    {
     "data": {
      "text/plain": [
       "<matplotlib.axes._subplots.AxesSubplot at 0x7fad6294e550>"
      ]
     },
     "execution_count": 71,
     "metadata": {},
     "output_type": "execute_result"
    },
    {
     "data": {
      "image/png": "[encoded data removed]",
      "text/plain": [
       "<Figure size 432x288 with 1 Axes>"
      ]
     },
     "metadata": {},
     "output_type": "display_data"
    }
   ],
   "source": [
    "intended_cs = stem_pathways_2007_2017[stem_pathways_2007_2017['major.intended.department']=='L&S Computer Science']\n",
    "intended_cs_f = intended_cs[intended_cs['gender'] == 'Female']\n",
    "intended_cs_m = intended_cs[intended_cs['gender'] == 'Male']\n",
    "# intended_cs = intended_cs.groupby(['gender', 'year']).agg(sum)['count'].to_frame()\n",
    "females_per_year = intended_cs_f.groupby('year').agg(sum)['count'].to_frame()\n",
    "males_per_year = intended_cs_m.groupby('year').agg(sum)['count'].to_frame()\n",
    "# female_count = intended_cs[intended_cs['gender']=='Female']\n",
    "# male_count = intended_cs[intended_cs['gender']=='Male']\n",
    "# sns.barplot(x='year', y='count', data=intended_cs)\n",
    "females_per_year.plot(kind='bar')"
   ]
  },
  {
   "cell_type": "code",
   "execution_count": 73,
   "metadata": {},
   "outputs": [
    {
     "name": "stderr",
     "output_type": "stream",
     "text": [
      "/opt/conda/lib/python3.8/site-packages/seaborn/_decorators.py:36: FutureWarning: Pass the following variable as a keyword arg: x. From version 0.12, the only valid positional argument will be `data`, and passing other arguments without an explicit keyword will result in an error or misinterpretation.\n",
      "  warnings.warn(\n"
     ]
    },
    {
     "ename": "ValueError",
     "evalue": "The truth value of a Series is ambiguous. Use a.empty, a.bool(), a.item(), a.any() or a.all().",
     "output_type": "error",
     "traceback": [
      "\u001b[0;31m---------------------------------------------------------------------------\u001b[0m",
      "\u001b[0;31mValueError\u001b[0m                                Traceback (most recent call last)",
      "\u001b[0;32m<ipython-input-73-6cc467138e4d>\u001b[0m in \u001b[0;36m<module>\u001b[0;34m\u001b[0m\n\u001b[0;32m----> 1\u001b[0;31m \u001b[0max\u001b[0m \u001b[0;34m=\u001b[0m \u001b[0msns\u001b[0m\u001b[0;34m.\u001b[0m\u001b[0mbarplot\u001b[0m\u001b[0;34m(\u001b[0m\u001b[0mfemales_per_year\u001b[0m\u001b[0;34m,\u001b[0m \u001b[0mlabel\u001b[0m\u001b[0;34m=\u001b[0m\u001b[0;34m'females'\u001b[0m\u001b[0;34m)\u001b[0m\u001b[0;34m\u001b[0m\u001b[0;34m\u001b[0m\u001b[0m\n\u001b[0m\u001b[1;32m      2\u001b[0m \u001b[0max\u001b[0m \u001b[0;34m=\u001b[0m \u001b[0msns\u001b[0m\u001b[0;34m.\u001b[0m\u001b[0mbarplot\u001b[0m\u001b[0;34m(\u001b[0m\u001b[0mmales_per_year\u001b[0m\u001b[0;34m,\u001b[0m \u001b[0mcolor\u001b[0m\u001b[0;34m=\u001b[0m\u001b[0;34m'green'\u001b[0m\u001b[0;34m,\u001b[0m \u001b[0maxlabel\u001b[0m\u001b[0;34m=\u001b[0m \u001b[0;34m'Count'\u001b[0m\u001b[0;34m,\u001b[0m \u001b[0mlabel\u001b[0m\u001b[0;34m=\u001b[0m\u001b[0;34m'males'\u001b[0m\u001b[0;34m)\u001b[0m\u001b[0;34m\u001b[0m\u001b[0;34m\u001b[0m\u001b[0m\n\u001b[1;32m      3\u001b[0m \u001b[0max\u001b[0m\u001b[0;34m.\u001b[0m\u001b[0mlegend\u001b[0m\u001b[0;34m(\u001b[0m\u001b[0;34m)\u001b[0m\u001b[0;34m\u001b[0m\u001b[0;34m\u001b[0m\u001b[0m\n",
      "\u001b[0;32m/opt/conda/lib/python3.8/site-packages/seaborn/_decorators.py\u001b[0m in \u001b[0;36minner_f\u001b[0;34m(*args, **kwargs)\u001b[0m\n\u001b[1;32m     44\u001b[0m             )\n\u001b[1;32m     45\u001b[0m         \u001b[0mkwargs\u001b[0m\u001b[0;34m.\u001b[0m\u001b[0mupdate\u001b[0m\u001b[0;34m(\u001b[0m\u001b[0;34m{\u001b[0m\u001b[0mk\u001b[0m\u001b[0;34m:\u001b[0m \u001b[0marg\u001b[0m \u001b[0;32mfor\u001b[0m \u001b[0mk\u001b[0m\u001b[0;34m,\u001b[0m \u001b[0marg\u001b[0m \u001b[0;32min\u001b[0m \u001b[0mzip\u001b[0m\u001b[0;34m(\u001b[0m\u001b[0msig\u001b[0m\u001b[0;34m.\u001b[0m\u001b[0mparameters\u001b[0m\u001b[0;34m,\u001b[0m \u001b[0margs\u001b[0m\u001b[0;34m)\u001b[0m\u001b[0;34m}\u001b[0m\u001b[0;34m)\u001b[0m\u001b[0;34m\u001b[0m\u001b[0;34m\u001b[0m\u001b[0m\n\u001b[0;32m---> 46\u001b[0;31m         \u001b[0;32mreturn\u001b[0m \u001b[0mf\u001b[0m\u001b[0;34m(\u001b[0m\u001b[0;34m**\u001b[0m\u001b[0mkwargs\u001b[0m\u001b[0;34m)\u001b[0m\u001b[0;34m\u001b[0m\u001b[0;34m\u001b[0m\u001b[0m\n\u001b[0m\u001b[1;32m     47\u001b[0m     \u001b[0;32mreturn\u001b[0m \u001b[0minner_f\u001b[0m\u001b[0;34m\u001b[0m\u001b[0;34m\u001b[0m\u001b[0m\n\u001b[1;32m     48\u001b[0m \u001b[0;34m\u001b[0m\u001b[0m\n",
      "\u001b[0;32m/opt/conda/lib/python3.8/site-packages/seaborn/categorical.py\u001b[0m in \u001b[0;36mbarplot\u001b[0;34m(x, y, hue, data, order, hue_order, estimator, ci, n_boot, units, seed, orient, color, palette, saturation, errcolor, errwidth, capsize, dodge, ax, **kwargs)\u001b[0m\n\u001b[1;32m   3167\u001b[0m ):\n\u001b[1;32m   3168\u001b[0m \u001b[0;34m\u001b[0m\u001b[0m\n\u001b[0;32m-> 3169\u001b[0;31m     plotter = _BarPlotter(x, y, hue, data, order, hue_order,\n\u001b[0m\u001b[1;32m   3170\u001b[0m                           \u001b[0mestimator\u001b[0m\u001b[0;34m,\u001b[0m \u001b[0mci\u001b[0m\u001b[0;34m,\u001b[0m \u001b[0mn_boot\u001b[0m\u001b[0;34m,\u001b[0m \u001b[0munits\u001b[0m\u001b[0;34m,\u001b[0m \u001b[0mseed\u001b[0m\u001b[0;34m,\u001b[0m\u001b[0;34m\u001b[0m\u001b[0;34m\u001b[0m\u001b[0m\n\u001b[1;32m   3171\u001b[0m                           \u001b[0morient\u001b[0m\u001b[0;34m,\u001b[0m \u001b[0mcolor\u001b[0m\u001b[0;34m,\u001b[0m \u001b[0mpalette\u001b[0m\u001b[0;34m,\u001b[0m \u001b[0msaturation\u001b[0m\u001b[0;34m,\u001b[0m\u001b[0;34m\u001b[0m\u001b[0;34m\u001b[0m\u001b[0m\n",
      "\u001b[0;32m/opt/conda/lib/python3.8/site-packages/seaborn/categorical.py\u001b[0m in \u001b[0;36m__init__\u001b[0;34m(self, x, y, hue, data, order, hue_order, estimator, ci, n_boot, units, seed, orient, color, palette, saturation, errcolor, errwidth, capsize, dodge)\u001b[0m\n\u001b[1;32m   1582\u001b[0m                  errwidth, capsize, dodge):\n\u001b[1;32m   1583\u001b[0m         \u001b[0;34m\"\"\"Initialize the plotter.\"\"\"\u001b[0m\u001b[0;34m\u001b[0m\u001b[0;34m\u001b[0m\u001b[0m\n\u001b[0;32m-> 1584\u001b[0;31m         self.establish_variables(x, y, hue, data, orient,\n\u001b[0m\u001b[1;32m   1585\u001b[0m                                  order, hue_order, units)\n\u001b[1;32m   1586\u001b[0m         \u001b[0mself\u001b[0m\u001b[0;34m.\u001b[0m\u001b[0mestablish_colors\u001b[0m\u001b[0;34m(\u001b[0m\u001b[0mcolor\u001b[0m\u001b[0;34m,\u001b[0m \u001b[0mpalette\u001b[0m\u001b[0;34m,\u001b[0m \u001b[0msaturation\u001b[0m\u001b[0;34m)\u001b[0m\u001b[0;34m\u001b[0m\u001b[0;34m\u001b[0m\u001b[0m\n",
      "\u001b[0;32m/opt/conda/lib/python3.8/site-packages/seaborn/categorical.py\u001b[0m in \u001b[0;36mestablish_variables\u001b[0;34m(self, x, y, hue, data, orient, order, hue_order, units)\u001b[0m\n\u001b[1;32m    154\u001b[0m \u001b[0;34m\u001b[0m\u001b[0m\n\u001b[1;32m    155\u001b[0m             \u001b[0;31m# Figure out the plotting orientation\u001b[0m\u001b[0;34m\u001b[0m\u001b[0;34m\u001b[0m\u001b[0;34m\u001b[0m\u001b[0m\n\u001b[0;32m--> 156\u001b[0;31m             orient = infer_orient(\n\u001b[0m\u001b[1;32m    157\u001b[0m                 \u001b[0mx\u001b[0m\u001b[0;34m,\u001b[0m \u001b[0my\u001b[0m\u001b[0;34m,\u001b[0m \u001b[0morient\u001b[0m\u001b[0;34m,\u001b[0m \u001b[0mrequire_numeric\u001b[0m\u001b[0;34m=\u001b[0m\u001b[0mself\u001b[0m\u001b[0;34m.\u001b[0m\u001b[0mrequire_numeric\u001b[0m\u001b[0;34m\u001b[0m\u001b[0;34m\u001b[0m\u001b[0m\n\u001b[1;32m    158\u001b[0m             )\n",
      "\u001b[0;32m/opt/conda/lib/python3.8/site-packages/seaborn/_core.py\u001b[0m in \u001b[0;36minfer_orient\u001b[0;34m(x, y, orient, require_numeric)\u001b[0m\n\u001b[1;32m   1286\u001b[0m     \"\"\"\n\u001b[1;32m   1287\u001b[0m \u001b[0;34m\u001b[0m\u001b[0m\n\u001b[0;32m-> 1288\u001b[0;31m     \u001b[0mx_type\u001b[0m \u001b[0;34m=\u001b[0m \u001b[0;32mNone\u001b[0m \u001b[0;32mif\u001b[0m \u001b[0mx\u001b[0m \u001b[0;32mis\u001b[0m \u001b[0;32mNone\u001b[0m \u001b[0;32melse\u001b[0m \u001b[0mvariable_type\u001b[0m\u001b[0;34m(\u001b[0m\u001b[0mx\u001b[0m\u001b[0;34m)\u001b[0m\u001b[0;34m\u001b[0m\u001b[0;34m\u001b[0m\u001b[0m\n\u001b[0m\u001b[1;32m   1289\u001b[0m     \u001b[0my_type\u001b[0m \u001b[0;34m=\u001b[0m \u001b[0;32mNone\u001b[0m \u001b[0;32mif\u001b[0m \u001b[0my\u001b[0m \u001b[0;32mis\u001b[0m \u001b[0;32mNone\u001b[0m \u001b[0;32melse\u001b[0m \u001b[0mvariable_type\u001b[0m\u001b[0;34m(\u001b[0m\u001b[0my\u001b[0m\u001b[0;34m)\u001b[0m\u001b[0;34m\u001b[0m\u001b[0;34m\u001b[0m\u001b[0m\n\u001b[1;32m   1290\u001b[0m \u001b[0;34m\u001b[0m\u001b[0m\n",
      "\u001b[0;32m/opt/conda/lib/python3.8/site-packages/seaborn/_core.py\u001b[0m in \u001b[0;36mvariable_type\u001b[0;34m(vector, boolean_type)\u001b[0m\n\u001b[1;32m   1201\u001b[0m     \"\"\"\n\u001b[1;32m   1202\u001b[0m     \u001b[0;31m# Special-case all-na data, which is always \"numeric\"\u001b[0m\u001b[0;34m\u001b[0m\u001b[0;34m\u001b[0m\u001b[0;34m\u001b[0m\u001b[0m\n\u001b[0;32m-> 1203\u001b[0;31m     \u001b[0;32mif\u001b[0m \u001b[0mpd\u001b[0m\u001b[0;34m.\u001b[0m\u001b[0misna\u001b[0m\u001b[0;34m(\u001b[0m\u001b[0mvector\u001b[0m\u001b[0;34m)\u001b[0m\u001b[0;34m.\u001b[0m\u001b[0mall\u001b[0m\u001b[0;34m(\u001b[0m\u001b[0;34m)\u001b[0m\u001b[0;34m:\u001b[0m\u001b[0;34m\u001b[0m\u001b[0;34m\u001b[0m\u001b[0m\n\u001b[0m\u001b[1;32m   1204\u001b[0m         \u001b[0;32mreturn\u001b[0m \u001b[0;34m\"numeric\"\u001b[0m\u001b[0;34m\u001b[0m\u001b[0;34m\u001b[0m\u001b[0m\n\u001b[1;32m   1205\u001b[0m \u001b[0;34m\u001b[0m\u001b[0m\n",
      "\u001b[0;32m/opt/conda/lib/python3.8/site-packages/pandas/core/generic.py\u001b[0m in \u001b[0;36m__nonzero__\u001b[0;34m(self)\u001b[0m\n\u001b[1;32m   1324\u001b[0m \u001b[0;34m\u001b[0m\u001b[0m\n\u001b[1;32m   1325\u001b[0m     \u001b[0;32mdef\u001b[0m \u001b[0m__nonzero__\u001b[0m\u001b[0;34m(\u001b[0m\u001b[0mself\u001b[0m\u001b[0;34m)\u001b[0m\u001b[0;34m:\u001b[0m\u001b[0;34m\u001b[0m\u001b[0;34m\u001b[0m\u001b[0m\n\u001b[0;32m-> 1326\u001b[0;31m         raise ValueError(\n\u001b[0m\u001b[1;32m   1327\u001b[0m             \u001b[0;34mf\"The truth value of a {type(self).__name__} is ambiguous. \"\u001b[0m\u001b[0;34m\u001b[0m\u001b[0;34m\u001b[0m\u001b[0m\n\u001b[1;32m   1328\u001b[0m             \u001b[0;34m\"Use a.empty, a.bool(), a.item(), a.any() or a.all().\"\u001b[0m\u001b[0;34m\u001b[0m\u001b[0;34m\u001b[0m\u001b[0m\n",
      "\u001b[0;31mValueError\u001b[0m: The truth value of a Series is ambiguous. Use a.empty, a.bool(), a.item(), a.any() or a.all()."
     ]
    }
   ],
   "source": [
    "ax = sns.barplot(females_per_year, label='females')\n",
    "ax = sns.barplot(males_per_year, color='green', axlabel= 'Count', label='males')\n",
    "ax.legend()"
   ]
  },
  {
   "cell_type": "code",
   "execution_count": 59,
   "metadata": {},
   "outputs": [
    {
     "data": {
      "text/html": [
       "<div>\n",
       "<style scoped>\n",
       "    .dataframe tbody tr th:only-of-type {\n",
       "        vertical-align: middle;\n",
       "    }\n",
       "\n",
       "    .dataframe tbody tr th {\n",
       "        vertical-align: top;\n",
       "    }\n",
       "\n",
       "    .dataframe thead th {\n",
       "        text-align: right;\n",
       "    }\n",
       "</style>\n",
       "<table border=\"1\" class=\"dataframe\">\n",
       "  <thead>\n",
       "    <tr style=\"text-align: right;\">\n",
       "      <th></th>\n",
       "      <th>ppsk</th>\n",
       "      <th>count</th>\n",
       "      <th>year</th>\n",
       "      <th>term</th>\n",
       "      <th>entry</th>\n",
       "      <th>residency</th>\n",
       "      <th>gender</th>\n",
       "      <th>ethnic.l1</th>\n",
       "      <th>ethnic.l2</th>\n",
       "      <th>ethnic.l3</th>\n",
       "      <th>...</th>\n",
       "      <th>degree.department.2</th>\n",
       "      <th>degree.major.2</th>\n",
       "      <th>degree.college.3</th>\n",
       "      <th>degree.division.3</th>\n",
       "      <th>degree.department.3</th>\n",
       "      <th>degree.major.3</th>\n",
       "      <th>degree.college.4</th>\n",
       "      <th>degree.division.4</th>\n",
       "      <th>degree.department.4</th>\n",
       "      <th>degree.major.4</th>\n",
       "    </tr>\n",
       "  </thead>\n",
       "  <tbody>\n",
       "  </tbody>\n",
       "</table>\n",
       "<p>0 rows × 108 columns</p>\n",
       "</div>"
      ],
      "text/plain": [
       "Empty DataFrame\n",
       "Columns: [ppsk, count, year, term, entry, residency, gender, ethnic.l1, ethnic.l2, ethnic.l3, probation.year.1, GradYr, RetainY1, RetainY2, RetainY3, RetainY4, RetainY5, RetainY6, hs.gpa.unweighted, hs.gpa.weighted, sat.total, sat.math, sat.verbal, sat.writing, act.composite, act.english, act.writing, act.math, act.reading, act.science, first.generation.college.1, first.generation.college.2, hs.api, ceeb, income.parent, income.student, major.intended.college, major.intended.division, major.intended.department, esl, gpa.first.term, units.completed.first.term, units.attempted.first.term, level.first.term, level.non.exam.first.term, year.last.gpa, term.last.gpa, gpa.cum.last, units.term.completed.last, units.term.attempted.last, level.last, level.non.exam.last, year.major.start, term.major.start, year.major.final, term.major.final, first.major.college.1, first.major.division.1, first.major.department.1, first.major.major.1, final.major.college.1, final.major.division.1, final.major.department.1, final.major.major.1, first.major.college.2, first.major.division.2, first.major.department.2, first.major.major.2, final.major.college.2, final.major.division.2, final.major.department.2, final.major.major.2, first.major.college.3, first.major.division.3, first.major.department.3, first.major.major.3, final.major.college.3, final.major.division.3, final.major.department.3, final.major.major.3, first.major.college.4, first.major.division.4, first.major.department.4, first.major.major.4, final.major.college.4, final.major.division.4, final.major.department.4, final.major.major.4, year.degree, term.degree, academic.year.degree, gpa.cum.degree, degree.college.1, degree.division.1, degree.department.1, degree.major.1, degree.college.2, degree.division.2, degree.department.2, degree.major.2, ...]\n",
       "Index: []\n",
       "\n",
       "[0 rows x 108 columns]"
      ]
     },
     "execution_count": 59,
     "metadata": {},
     "output_type": "execute_result"
    }
   ],
   "source": [
    "stem_pathways_2007_2017[stem_pathways_2007_2017['first.major.major.3']== 'L&S Computer Science']"
   ]
  },
  {
   "cell_type": "code",
   "execution_count": 52,
   "metadata": {},
   "outputs": [
    {
     "data": {
      "text/plain": [
       "0        False\n",
       "1        False\n",
       "2        False\n",
       "3        False\n",
       "4        False\n",
       "         ...  \n",
       "80503    False\n",
       "80504    False\n",
       "80505    False\n",
       "80506    False\n",
       "80507    False\n",
       "Name: first.major.major.1, Length: 80508, dtype: bool"
      ]
     },
     "execution_count": 52,
     "metadata": {},
     "output_type": "execute_result"
    }
   ],
   "source": [
    "stem_pathways_2007_2017[final.major.major.1]=='Computer Science'"
   ]
  },
  {
   "cell_type": "code",
   "execution_count": 42,
   "metadata": {},
   "outputs": [
    {
     "ename": "UnicodeDecodeError",
     "evalue": "'utf-8' codec can't decode byte 0xff in position 0: invalid start byte",
     "output_type": "error",
     "traceback": [
      "\u001b[0;31m---------------------------------------------------------------------------\u001b[0m",
      "\u001b[0;31mUnicodeDecodeError\u001b[0m                        Traceback (most recent call last)",
      "\u001b[0;32m<ipython-input-42-54d9741af9c3>\u001b[0m in \u001b[0;36m<module>\u001b[0;34m\u001b[0m\n\u001b[0;32m----> 1\u001b[0;31m \u001b[0mmajors2007_2017\u001b[0m \u001b[0;34m=\u001b[0m \u001b[0mpd\u001b[0m\u001b[0;34m.\u001b[0m\u001b[0mread_csv\u001b[0m\u001b[0;34m(\u001b[0m\u001b[0;34m\"uc.berkeley.student.majors.2007.2017.txt\"\u001b[0m\u001b[0;34m,\u001b[0m \u001b[0msep\u001b[0m\u001b[0;34m=\u001b[0m\u001b[0;34m\"\\t\"\u001b[0m\u001b[0;34m,\u001b[0m \u001b[0mlow_memory\u001b[0m\u001b[0;34m=\u001b[0m\u001b[0;32mFalse\u001b[0m\u001b[0;34m)\u001b[0m\u001b[0;34m\u001b[0m\u001b[0;34m\u001b[0m\u001b[0m\n\u001b[0m",
      "\u001b[0;32m/opt/conda/lib/python3.8/site-packages/pandas/io/parsers.py\u001b[0m in \u001b[0;36mread_csv\u001b[0;34m(filepath_or_buffer, sep, delimiter, header, names, index_col, usecols, squeeze, prefix, mangle_dupe_cols, dtype, engine, converters, true_values, false_values, skipinitialspace, skiprows, skipfooter, nrows, na_values, keep_default_na, na_filter, verbose, skip_blank_lines, parse_dates, infer_datetime_format, keep_date_col, date_parser, dayfirst, cache_dates, iterator, chunksize, compression, thousands, decimal, lineterminator, quotechar, quoting, doublequote, escapechar, comment, encoding, dialect, error_bad_lines, warn_bad_lines, delim_whitespace, low_memory, memory_map, float_precision)\u001b[0m\n\u001b[1;32m    684\u001b[0m     )\n\u001b[1;32m    685\u001b[0m \u001b[0;34m\u001b[0m\u001b[0m\n\u001b[0;32m--> 686\u001b[0;31m     \u001b[0;32mreturn\u001b[0m \u001b[0m_read\u001b[0m\u001b[0;34m(\u001b[0m\u001b[0mfilepath_or_buffer\u001b[0m\u001b[0;34m,\u001b[0m \u001b[0mkwds\u001b[0m\u001b[0;34m)\u001b[0m\u001b[0;34m\u001b[0m\u001b[0;34m\u001b[0m\u001b[0m\n\u001b[0m\u001b[1;32m    687\u001b[0m \u001b[0;34m\u001b[0m\u001b[0m\n\u001b[1;32m    688\u001b[0m \u001b[0;34m\u001b[0m\u001b[0m\n",
      "\u001b[0;32m/opt/conda/lib/python3.8/site-packages/pandas/io/parsers.py\u001b[0m in \u001b[0;36m_read\u001b[0;34m(filepath_or_buffer, kwds)\u001b[0m\n\u001b[1;32m    450\u001b[0m \u001b[0;34m\u001b[0m\u001b[0m\n\u001b[1;32m    451\u001b[0m     \u001b[0;31m# Create the parser.\u001b[0m\u001b[0;34m\u001b[0m\u001b[0;34m\u001b[0m\u001b[0;34m\u001b[0m\u001b[0m\n\u001b[0;32m--> 452\u001b[0;31m     \u001b[0mparser\u001b[0m \u001b[0;34m=\u001b[0m \u001b[0mTextFileReader\u001b[0m\u001b[0;34m(\u001b[0m\u001b[0mfp_or_buf\u001b[0m\u001b[0;34m,\u001b[0m \u001b[0;34m**\u001b[0m\u001b[0mkwds\u001b[0m\u001b[0;34m)\u001b[0m\u001b[0;34m\u001b[0m\u001b[0;34m\u001b[0m\u001b[0m\n\u001b[0m\u001b[1;32m    453\u001b[0m \u001b[0;34m\u001b[0m\u001b[0m\n\u001b[1;32m    454\u001b[0m     \u001b[0;32mif\u001b[0m \u001b[0mchunksize\u001b[0m \u001b[0;32mor\u001b[0m \u001b[0miterator\u001b[0m\u001b[0;34m:\u001b[0m\u001b[0;34m\u001b[0m\u001b[0;34m\u001b[0m\u001b[0m\n",
      "\u001b[0;32m/opt/conda/lib/python3.8/site-packages/pandas/io/parsers.py\u001b[0m in \u001b[0;36m__init__\u001b[0;34m(self, f, engine, **kwds)\u001b[0m\n\u001b[1;32m    934\u001b[0m             \u001b[0mself\u001b[0m\u001b[0;34m.\u001b[0m\u001b[0moptions\u001b[0m\u001b[0;34m[\u001b[0m\u001b[0;34m\"has_index_names\"\u001b[0m\u001b[0;34m]\u001b[0m \u001b[0;34m=\u001b[0m \u001b[0mkwds\u001b[0m\u001b[0;34m[\u001b[0m\u001b[0;34m\"has_index_names\"\u001b[0m\u001b[0;34m]\u001b[0m\u001b[0;34m\u001b[0m\u001b[0;34m\u001b[0m\u001b[0m\n\u001b[1;32m    935\u001b[0m \u001b[0;34m\u001b[0m\u001b[0m\n\u001b[0;32m--> 936\u001b[0;31m         \u001b[0mself\u001b[0m\u001b[0;34m.\u001b[0m\u001b[0m_make_engine\u001b[0m\u001b[0;34m(\u001b[0m\u001b[0mself\u001b[0m\u001b[0;34m.\u001b[0m\u001b[0mengine\u001b[0m\u001b[0;34m)\u001b[0m\u001b[0;34m\u001b[0m\u001b[0;34m\u001b[0m\u001b[0m\n\u001b[0m\u001b[1;32m    937\u001b[0m \u001b[0;34m\u001b[0m\u001b[0m\n\u001b[1;32m    938\u001b[0m     \u001b[0;32mdef\u001b[0m \u001b[0mclose\u001b[0m\u001b[0;34m(\u001b[0m\u001b[0mself\u001b[0m\u001b[0;34m)\u001b[0m\u001b[0;34m:\u001b[0m\u001b[0;34m\u001b[0m\u001b[0;34m\u001b[0m\u001b[0m\n",
      "\u001b[0;32m/opt/conda/lib/python3.8/site-packages/pandas/io/parsers.py\u001b[0m in \u001b[0;36m_make_engine\u001b[0;34m(self, engine)\u001b[0m\n\u001b[1;32m   1166\u001b[0m     \u001b[0;32mdef\u001b[0m \u001b[0m_make_engine\u001b[0m\u001b[0;34m(\u001b[0m\u001b[0mself\u001b[0m\u001b[0;34m,\u001b[0m \u001b[0mengine\u001b[0m\u001b[0;34m=\u001b[0m\u001b[0;34m\"c\"\u001b[0m\u001b[0;34m)\u001b[0m\u001b[0;34m:\u001b[0m\u001b[0;34m\u001b[0m\u001b[0;34m\u001b[0m\u001b[0m\n\u001b[1;32m   1167\u001b[0m         \u001b[0;32mif\u001b[0m \u001b[0mengine\u001b[0m \u001b[0;34m==\u001b[0m \u001b[0;34m\"c\"\u001b[0m\u001b[0;34m:\u001b[0m\u001b[0;34m\u001b[0m\u001b[0;34m\u001b[0m\u001b[0m\n\u001b[0;32m-> 1168\u001b[0;31m             \u001b[0mself\u001b[0m\u001b[0;34m.\u001b[0m\u001b[0m_engine\u001b[0m \u001b[0;34m=\u001b[0m \u001b[0mCParserWrapper\u001b[0m\u001b[0;34m(\u001b[0m\u001b[0mself\u001b[0m\u001b[0;34m.\u001b[0m\u001b[0mf\u001b[0m\u001b[0;34m,\u001b[0m \u001b[0;34m**\u001b[0m\u001b[0mself\u001b[0m\u001b[0;34m.\u001b[0m\u001b[0moptions\u001b[0m\u001b[0;34m)\u001b[0m\u001b[0;34m\u001b[0m\u001b[0;34m\u001b[0m\u001b[0m\n\u001b[0m\u001b[1;32m   1169\u001b[0m         \u001b[0;32melse\u001b[0m\u001b[0;34m:\u001b[0m\u001b[0;34m\u001b[0m\u001b[0;34m\u001b[0m\u001b[0m\n\u001b[1;32m   1170\u001b[0m             \u001b[0;32mif\u001b[0m \u001b[0mengine\u001b[0m \u001b[0;34m==\u001b[0m \u001b[0;34m\"python\"\u001b[0m\u001b[0;34m:\u001b[0m\u001b[0;34m\u001b[0m\u001b[0;34m\u001b[0m\u001b[0m\n",
      "\u001b[0;32m/opt/conda/lib/python3.8/site-packages/pandas/io/parsers.py\u001b[0m in \u001b[0;36m__init__\u001b[0;34m(self, src, **kwds)\u001b[0m\n\u001b[1;32m   1996\u001b[0m         \u001b[0mkwds\u001b[0m\u001b[0;34m[\u001b[0m\u001b[0;34m\"usecols\"\u001b[0m\u001b[0;34m]\u001b[0m \u001b[0;34m=\u001b[0m \u001b[0mself\u001b[0m\u001b[0;34m.\u001b[0m\u001b[0musecols\u001b[0m\u001b[0;34m\u001b[0m\u001b[0;34m\u001b[0m\u001b[0m\n\u001b[1;32m   1997\u001b[0m \u001b[0;34m\u001b[0m\u001b[0m\n\u001b[0;32m-> 1998\u001b[0;31m         \u001b[0mself\u001b[0m\u001b[0;34m.\u001b[0m\u001b[0m_reader\u001b[0m \u001b[0;34m=\u001b[0m \u001b[0mparsers\u001b[0m\u001b[0;34m.\u001b[0m\u001b[0mTextReader\u001b[0m\u001b[0;34m(\u001b[0m\u001b[0msrc\u001b[0m\u001b[0;34m,\u001b[0m \u001b[0;34m**\u001b[0m\u001b[0mkwds\u001b[0m\u001b[0;34m)\u001b[0m\u001b[0;34m\u001b[0m\u001b[0;34m\u001b[0m\u001b[0m\n\u001b[0m\u001b[1;32m   1999\u001b[0m         \u001b[0mself\u001b[0m\u001b[0;34m.\u001b[0m\u001b[0munnamed_cols\u001b[0m \u001b[0;34m=\u001b[0m \u001b[0mself\u001b[0m\u001b[0;34m.\u001b[0m\u001b[0m_reader\u001b[0m\u001b[0;34m.\u001b[0m\u001b[0munnamed_cols\u001b[0m\u001b[0;34m\u001b[0m\u001b[0;34m\u001b[0m\u001b[0m\n\u001b[1;32m   2000\u001b[0m \u001b[0;34m\u001b[0m\u001b[0m\n",
      "\u001b[0;32mpandas/_libs/parsers.pyx\u001b[0m in \u001b[0;36mpandas._libs.parsers.TextReader.__cinit__\u001b[0;34m()\u001b[0m\n",
      "\u001b[0;32mpandas/_libs/parsers.pyx\u001b[0m in \u001b[0;36mpandas._libs.parsers.TextReader._get_header\u001b[0;34m()\u001b[0m\n",
      "\u001b[0;31mUnicodeDecodeError\u001b[0m: 'utf-8' codec can't decode byte 0xff in position 0: invalid start byte"
     ]
    }
   ],
   "source": [
    "majors2007_2017 = pd.read_csv(\"uc.berkeley.student.majors.2007.2017.txt\", sep=\"\\t\", low_memory=False)"
   ]
  },
  {
   "cell_type": "code",
   "execution_count": null,
   "metadata": {},
   "outputs": [],
   "source": []
  },
  {
   "cell_type": "code",
   "execution_count": null,
   "metadata": {},
   "outputs": [],
   "source": []
  }
 ],
 "metadata": {
  "kernelspec": {
   "display_name": "Python 3",
   "language": "python",
   "name": "python3"
  },
  "language_info": {
   "codemirror_mode": {
    "name": "ipython",
    "version": 3
   },
   "file_extension": ".py",
   "mimetype": "text/x-python",
   "name": "python",
   "nbconvert_exporter": "python",
   "pygments_lexer": "ipython3",
   "version": "3.8.6"
  }
 },
 "nbformat": 4,
 "nbformat_minor": 4
}
